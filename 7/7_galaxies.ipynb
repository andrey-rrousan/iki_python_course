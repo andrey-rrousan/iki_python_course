{
 "cells": [
  {
   "cell_type": "markdown",
   "metadata": {
    "vscode": {
     "languageId": "plaintext"
    }
   },
   "source": [
    "### **Практикум 7. Галактики**\n",
    "\n",
    "Практикум выполнен на основе материалов практического занятия\\\n",
    "в рамках ЛКШ, разработанного [Александром Нежиным](https://github.com/ZAKOVYIKA) и [Александром Ломакиным](https://github.com/teimy).\n",
    "\n",
    "#### **О чем этот практикум?**\n",
    "\n",
    "В рамках этого практикума мы будем работать с данными галактики [M59](https://ru.wikipedia.org/wiki/M_59_(%D0%B3%D0%B0%D0%BB%D0%B0%D0%BA%D1%82%D0%B8%D0%BA%D0%B0)),\\\n",
    "яркого примера эллиптической галактики. Одним из важнейших параметров галактики является её масса,\\\n",
    "и сегодня (и на следующей неделе) мы попробуем её оценить по наблюдаемым данным.\n",
    "\n",
    "**На практикуме мы**:\n",
    "1. Оценим угловые размеры эллиптической галактики фитированием.\n",
    "2. Найдем профиль поверхностной яркости и фитируем его эмпирической моделью.\n",
    "3. Оценим распределение дисперсии скоростей в галактике.\n",
    "4. По полученным данным выведем зависимость массы от наблюдаемых параметров.\n",
    "5. По полученным модельным зависимостям получим оценку на массу."
   ]
  },
  {
   "cell_type": "markdown",
   "metadata": {},
   "source": [
    "#### **Перед тем как начать.**\n",
    "\n",
    "Убедимся, что все модули, которые нам нужны, установлены и работают как надо.\n",
    "\n",
    "Если это не так, установите недостающие модули или обратитесь к преподавателю."
   ]
  },
  {
   "cell_type": "code",
   "execution_count": 63,
   "metadata": {},
   "outputs": [],
   "source": [
    "import numpy as np\n",
    "\n",
    "import matplotlib.pyplot as plt\n",
    "from matplotlib.colors import LogNorm, SymLogNorm\n",
    "from matplotlib.patches import Ellipse\n",
    "\n",
    "from astropy.io import fits\n",
    "from astropy.wcs import WCS\n",
    "from astropy import units as u\n",
    "\n",
    "import pandas as pd\n",
    "\n",
    "from scipy.integrate import quad\n",
    "from scipy.optimize import minimize, curve_fit"
   ]
  },
  {
   "cell_type": "markdown",
   "metadata": {},
   "source": [
    "#### **Часть 0. Читаем данные.**\n",
    "\n",
    "В нашем анализе будут использоваться **два набора** данных:\n",
    "- fits-файл с изображением галактики в оптике;\n",
    "- txt-файл с дисперсией радиальных скоростей по спектральным данным.\n",
    "\n",
    "**FITS-файл** содержит 2-D массив с числом отсчетов и заголовок с мета-данными.\n",
    "\n",
    "К содержанию файла с дисперсиями радиальных скоростей мы вернемся позже."
   ]
  },
  {
   "cell_type": "code",
   "execution_count": 64,
   "metadata": {},
   "outputs": [],
   "source": [
    "filename = './data/M59/M59.fits'\n",
    "data = fits.getdata(filename)\n",
    "header = fits.getheader(filename)"
   ]
  },
  {
   "cell_type": "markdown",
   "metadata": {},
   "source": [
    "data -- 2-D массив размера (313, 313), в котором хранятся данные о числе отсчетов\\\n",
    "зарегистрированных с конкретного направления.\n",
    "\n",
    "header -- именованный массив различных мета-данных об объекте, формате данных и т.д."
   ]
  },
  {
   "cell_type": "code",
   "execution_count": null,
   "metadata": {},
   "outputs": [],
   "source": [
    "plt.close()\n",
    "plt.figure(figsize=(14, 11))\n",
    "\n",
    "plt.imshow(data, origin='lower') # функция для рисования изображений по массивам\n",
    "                                 # origin='lower' помещает точку (0,0) в левый нижний угол\n",
    "plt.colorbar()\n",
    "\n",
    "plt.show()"
   ]
  },
  {
   "cell_type": "markdown",
   "metadata": {},
   "source": [
    "Просмотреть содержимое header можно прописав через отображение Jupyter-notebook, указав переменную\\\n",
    "типа header в конце ячейки кода."
   ]
  },
  {
   "cell_type": "code",
   "execution_count": null,
   "metadata": {},
   "outputs": [],
   "source": [
    "header"
   ]
  },
  {
   "cell_type": "markdown",
   "metadata": {},
   "source": [
    "Обращение к отдельным значениям происходит по ключевым словам вместо индексов:"
   ]
  },
  {
   "cell_type": "code",
   "execution_count": null,
   "metadata": {},
   "outputs": [],
   "source": [
    "header['TELESCOP']"
   ]
  },
  {
   "cell_type": "markdown",
   "metadata": {},
   "source": [
    "#### **Часть 1. Первичная обработка изображения.**\n",
    "\n",
    "В этой части мы попробуем получить базовые данные о наблюдаемых свойствах\\\n",
    "галактики, используя только данное изображение M59.\n",
    "\n",
    "> *__Задание 1.0. Строим картинку.__*\\\n",
    "Для начала еще раз построим изображение нашего наблюдения, но уже\\\n",
    "в логарифмическом масштабе.\n",
    "\n",
    "Для этого используем `plt.imshow` с дополнительным аргументов `norm=LogNorm()`,\\\n",
    "`LogNorm()` -- функция, которую мы импортировали из `matplotlib` ранее.\n",
    "\n",
    "<details>\n",
    "<summary><b>\n",
    ">>> Вариант решения (кликни, чтобы раскрыть) <<<\n",
    "</summary></b>\n",
    "\n",
    "```python\n",
    "plt.close()\n",
    "\n",
    "plt.imshow(data, origin='lower', norm=LogNorm())\n",
    "plt.colorbar()\n",
    "\n",
    "plt.show()\n",
    "```\n",
    "\n",
    "</details>\n"
   ]
  },
  {
   "cell_type": "code",
   "execution_count": 68,
   "metadata": {},
   "outputs": [],
   "source": [
    "# =======================================\n",
    "# МЕСТО ДЛЯ ВАШЕГО КОДА\n",
    "\n",
    "\n"
   ]
  },
  {
   "cell_type": "markdown",
   "metadata": {},
   "source": [
    "> *__Задание 1.1. Ищем максимум.__*\\\n",
    "Максимум излучения на изображении, как хорошо видно, приходится на центр\\\n",
    "эллиптической галактики. Напишите код, который определяет положение точки\\\n",
    "с максимальным числом отсчетов в нашем массиве.\\\n",
    "**Запишите** их в переменные `x_center` и `y_center`.\\\n",
    "**Нарисуйте** положение этого центра на графике для самопроверки.\n",
    "\n",
    "Подсказка:\\\n",
    "Попробуйте воспользоваться функциями типа `np.argmax`, `np.max` \n",
    "\n",
    "<details>\n",
    "<summary>\n",
    "<b> >>> Вариант решения <<<</b>\n",
    "</summary>\n",
    "\n",
    "```python Решение\n",
    "    x_center = data.argmax() % data.shape[1]\n",
    "    y_center = data.argmax() // data.shape[0]\n",
    "```\n",
    "\n",
    "</details>"
   ]
  },
  {
   "cell_type": "code",
   "execution_count": 69,
   "metadata": {},
   "outputs": [],
   "source": [
    "# =======================================\n",
    "# МЕСТО ДЛЯ ВАШЕГО КОДА\n",
    "\n",
    "\n"
   ]
  },
  {
   "cell_type": "markdown",
   "metadata": {},
   "source": [
    "<details>\n",
    "<summary>\n",
    "<b> >>> Вариант решения <<<</b>\n",
    "</summary>\n",
    "\n",
    "```python Решение\n",
    "    plt.close()\n",
    "\n",
    "    plt.imshow(data, origin='lower', norm=LogNorm())\n",
    "    plt.scatter(x_center, y_center, color='black')\n",
    "\n",
    "    plt.show()\n",
    "```\n",
    "\n",
    "</details>"
   ]
  },
  {
   "cell_type": "code",
   "execution_count": 70,
   "metadata": {},
   "outputs": [],
   "source": [
    "# =======================================\n",
    "# МЕСТО ДЛЯ ВАШЕГО КОДА ДЛЯ ГРАФИКА\n",
    "\n",
    "\n"
   ]
  },
  {
   "cell_type": "markdown",
   "metadata": {},
   "source": [
    "В рамках этого практикума мы будем описывать форму наблюдаемой эллиптической\\\n",
    "галактики эллипсом (sic!).\n",
    "\n",
    "Для простоты отображения будем использовать специально написанную функцию `draw_ellipse()`.\\\n",
    "Она **принимает**:\\\n",
    "`x_center`, `y_center` - координаты центра эллипса\\\n",
    "`a`, `b` - полуоси эллипса\\\n",
    "`angle` - угол поворота эллипса **в градусах**."
   ]
  },
  {
   "cell_type": "code",
   "execution_count": 71,
   "metadata": {},
   "outputs": [],
   "source": [
    "def draw_ellipse(x_center, y_center, a, b, angle):\n",
    "    width, height = a*2, b*2\n",
    "    plt.scatter(x_center, y_center, c='black')\n",
    "    plt.gca().add_patch(Ellipse((x_center, y_center), width=width, height=height, angle=angle, facecolor='None', edgecolor='black'))\n",
    "    plt.gca().add_patch(Ellipse((x_center, y_center), width=width, height=0, angle=angle, facecolor='None', edgecolor='black', alpha=0.5))\n",
    "    plt.gca().add_patch(Ellipse((x_center, y_center), width=0, height=height, angle=angle, facecolor='None', edgecolor='black', alpha=0.5))"
   ]
  },
  {
   "cell_type": "markdown",
   "metadata": {},
   "source": [
    "> **_Интерлюдия 1._**\\\n",
    "В коде ниже в явном виде заданы все параметры функции `draw_ellipse()`.\\\n",
    "Я предлагаю с ними поиграться и разобраться, что за что отвечает."
   ]
  },
  {
   "cell_type": "code",
   "execution_count": null,
   "metadata": {},
   "outputs": [],
   "source": [
    "plt.close()\n",
    "\n",
    "draw_ellipse(x_center=10, y_center=10, a=5, b=10, angle=0)\n",
    "plt.xlim(0, 20)\n",
    "plt.ylim(0, 20)\n",
    "\n",
    "plt.show()"
   ]
  },
  {
   "cell_type": "markdown",
   "metadata": {},
   "source": [
    "> **_Задание 1.2. Фитируем на глазок._**\\\n",
    "Постройте изображение галактики и эллипс в одних осях.\\\n",
    "Подберите параметры эллипса `a`, `b` и `angle`, которые будут\\\n",
    "(на глаз), неплохо описывать границы галактики.\n",
    "\n",
    "Не переусердствуйте, эти значения будут использоваться только как\\\n",
    "нулевое приближение при дальнейшем фитировании.\n",
    "\n",
    "<details>\n",
    "<summary><b>\n",
    ">>> Вариант решения <<<\n",
    "</summary></b>\n",
    "\n",
    "```python\n",
    "\n",
    "plt.close()\n",
    "plt.figure(figsize=(14, 11))\n",
    "\n",
    "plt.imshow(data, origin='lower', norm=LogNorm())\n",
    "plt.colorbar()\n",
    "\n",
    "draw_ellipse(x_center, y_center, 30, 60, -15)\n",
    "\n",
    "\n",
    "plt.show()\n",
    "\n",
    "```\n",
    "</details>"
   ]
  },
  {
   "cell_type": "code",
   "execution_count": null,
   "metadata": {},
   "outputs": [],
   "source": [
    "# =======================================\n",
    "# МЕСТО ДЛЯ ВАШЕГО КОДА\n",
    "\n",
    "\n"
   ]
  },
  {
   "cell_type": "markdown",
   "metadata": {},
   "source": [
    "#### **Часть 2. Фитирование эллипса.**\n",
    "\n",
    "В этом разделе мы попробуем оптимизировать поиск параметров эллипса,\\\n",
    "который наилучшим образом опишет наши данные.\n",
    "\n",
    "**Что сделаем**:\n",
    "1. Определим условие для поиска границ эллипса.\n",
    "2. Зададим метрику соответствия эллипса и данных.\n",
    "3. Напишем функцию для фитирования.\n",
    "4. Получим оптимальные параметры эллипса"
   ]
  },
  {
   "cell_type": "markdown",
   "metadata": {},
   "source": [
    "В наших данных на изображении присутствуют две ключевые компоненты:\\\n",
    "излучение от галактики и фон от неба. Излучение от галактики маскимально\\\n",
    "в центре и постепенно убывает к краям, пока не станет совсем незначительным\\\n",
    "по сравнению с фоном от неба.\n",
    "\n",
    "В таком случае, мы можем для нашей картинки подобрать такой диапазон значений\\\n",
    "числа отсчетов в каждом пикселе, при котором мы будем видеть только пограничную область:\\\n",
    "больше, чем излучение от неба, но меньше, чем излучение центральной области галактики.\n",
    "\n",
    "Оценку границ этой области удобно при помощи гистограммы числа отсчетов в нашем изображении.\n",
    "\n",
    "> **_Задание 2.0_**\\\n",
    "Подберите такие значения границ `bor_min` и `bor_max` , которые лежат выше основного пика фона,\\\n",
    "но ниже большей части хвоста распределения, ответственного за излучение галактики.\n",
    "\n",
    "Обратите внимание, что в коде ниже есть переменная `header[\"SKY\"]`, так в мета-данных помещена\\\n",
    "оценка числа отсчетов, пришедших с неба. Сейчас это нам не нужно, но пригодится позже.\n",
    "\n",
    "<details>\n",
    "<summary><b>\n",
    ">>> Вариант решения <<<\n",
    "</summary></b>\n",
    "\n",
    "Я использовал значения\n",
    "\n",
    "```python\n",
    "bor_min = 150\n",
    "bor_max = 170\n",
    "```\n",
    "\n",
    "но в рамках этого задания приемлемый диапазон может варьироваться\n",
    "\n",
    "</details>"
   ]
  },
  {
   "cell_type": "code",
   "execution_count": null,
   "metadata": {},
   "outputs": [],
   "source": [
    "# =======================================\n",
    "# Место для ваших значений\n",
    "\n",
    "bor_min = 10\n",
    "bor_max = 100\n",
    "\n",
    "# =======================================\n",
    "\n",
    "bins = np.geomspace(10, data.max(), 200)\n",
    "\n",
    "plt.close()\n",
    "plt.figure(figsize=(10, 8))\n",
    "\n",
    "plt.hist(data.flatten(), bins=bins, histtype='stepfilled')\n",
    "plt.vlines(header['SKY'], 0, 1e4, colors='tab:red', label='SKY estimation')\n",
    "\n",
    "plt.fill_betweenx(np.array([0, 1e4]), bor_min, bor_max, color='tab:green', alpha=0.1)\n",
    "plt.vlines([bor_min, bor_max], 0, 1e4, color='tab:green')\n",
    "\n",
    "plt.xscale('log')\n",
    "plt.yscale('log')\n",
    "\n",
    "plt.ylabel('Number of pixels', fontdict={'size':14})\n",
    "plt.xlabel('Counts in pixel', fontdict={'size':14})\n",
    "\n",
    "plt.show()"
   ]
  },
  {
   "cell_type": "markdown",
   "metadata": {},
   "source": [
    "> **_Интерлюдия 2. Парни, шо мы надрафтили_**\\\n",
    "Провалидируем, что наш диапазон значений возвращает точки, которые нам подходят.\\\n",
    "Построим в одних осях изображение наших данных **с вычтенным фоном** и точки,\\\n",
    "которые мы классифицируем как границы.\\\n",
    "Я предлагаю разобраться, что делает первая строчка в этой ячейке."
   ]
  },
  {
   "cell_type": "code",
   "execution_count": null,
   "metadata": {},
   "outputs": [],
   "source": [
    "y_border, x_border = np.where((data > bor_min) * (data < bor_max))\n",
    "\n",
    "plt.close()\n",
    "\n",
    "plt.figure(figsize=(12, 10))\n",
    "\n",
    "plt.imshow(data - header['SKY'], norm=SymLogNorm(1), origin='lower')\n",
    "plt.colorbar()\n",
    "\n",
    "plt.scatter(x_border, y_border, s=3, color='tab:red')\n",
    "\n",
    "\n",
    "plt.show()\n"
   ]
  },
  {
   "cell_type": "markdown",
   "metadata": {},
   "source": [
    "> *Задание 2.1. Изобретаем колесо (эллипс).*\\\n",
    "Напишите функцию, которая отражает, насколько хорошо массив\\\n",
    "точек описывается заданным уравнением эллипса.\n",
    "\n",
    "Функция **принимает**:\\\n",
    "x - массив координат точек по оси x\\\n",
    "y - массив координат точек по оси y\\\n",
    "x_center, y_center - координаты центра эллипса\\\n",
    "a, b - длины полуосей эллипса\\\n",
    "angle - угол поворота эллипса **в градусах**\n",
    "\n",
    "И **возвращает**:\\\n",
    "абсолютную метрику близости каждой точки к эллипсу.\n",
    "\n",
    "**Как это сделать?**\n",
    "1. Перевести градусы в радианы при помощи модуля `astropy.units`/\n",
    "Он уже импортирован в проект как `u`.\\\n",
    "Это делается при помощи синтаксиса `(my_number * u.some_unit).to(u.other_unit).value`\n",
    "2. Сдвинуть все точки в СО с нулем в центре эллипса `(x_center, y_center)`.\n",
    "3. Повернуть все точки на угол `angle` матрицей поворота.\n",
    "4. Вычислить близость к эллипсу по формуле:\\\n",
    "$\\rm\n",
    "Metric = (x_*^2 / a^2 + y_*^2/b^2) - 1\n",
    "$\\\n",
    "$x_*$ и $y_*$ -- положения точек после прошлых преобразований.\\\n",
    "Эта формула взята из стандартного уравнения эллипса и в идеальном\\\n",
    "случае должна возвращать 0.\n",
    "\n",
    "<details>\n",
    "<summary><b>\n",
    ">>> Вариант решения <<<\n",
    "</summary></b>\n",
    "\n",
    "```python\n",
    "def ellipse(x, y, x0, y0, a, b, angle):\n",
    "    angle = (angle * u.deg).to(u.rad).value\n",
    "    x_p = (x - x0)*np.cos(angle) + (y-y0)*np.sin(angle)\n",
    "    y_p = -(x - x0)*np.sin(angle) + (y-y0)*np.cos(angle)\n",
    "    \n",
    "    return (x_p**2/a**2 + y_p**2/b**2) - 1\n",
    "```\n",
    "\n",
    "</details>"
   ]
  },
  {
   "cell_type": "code",
   "execution_count": 76,
   "metadata": {},
   "outputs": [],
   "source": [
    "# ==================================\n",
    "# МЕСТО ДЛЯ ВАШЕГО КОДА\n",
    "\n",
    "def ellipse(x, y, x0, y0, a, b, angle):\n",
    "    \n",
    "    \n",
    "    \n",
    "    return 0 # Это заглушка, чтобы интерпретатор не ругался, не оставляйте тут 0"
   ]
  },
  {
   "cell_type": "markdown",
   "metadata": {},
   "source": [
    "> **_Интерлюдия 3. Я точно все нормально делаю?_**\\\n",
    "Для самопроверки снова построим график с точками на границе, но в этот раз\\\n",
    "модифицируем его цвет при помощи аргумента `plt.scatter(..., c=ellipse(...), ...)`.\\\n",
    "Белым на графике отмечаются те точки, что наша функция считаем близкими к нулю,\\\n",
    "красным - те, что больше нуля, и синим - те, что меньше нуля.\\\n",
    "Я предлагаю проверить, что все рисуется так, как мы ожидаем, и что в коде выше не\\\n",
    "допущено никаких ошибок."
   ]
  },
  {
   "cell_type": "code",
   "execution_count": null,
   "metadata": {},
   "outputs": [],
   "source": [
    "# ============================================\n",
    "# Модифицируйте эти значения, чтобы поиграться и проверить, что все работает\n",
    "\n",
    "a, b, angle = 10, 100, -60\n",
    "\n",
    "# ============================================\n",
    "\n",
    "plt.close()\n",
    "\n",
    "plt.figure(figsize=(12, 10))\n",
    "\n",
    "plt.imshow(data - header['SKY'], norm=SymLogNorm(1), origin='lower')\n",
    "\n",
    "plt.scatter(x_border, y_border, s=3, c=ellipse(x_border, y_border, x_center, y_center, a, b, angle), cmap='seismic', vmax=1, vmin=-1)\n",
    "draw_ellipse(x_center, y_center, a, b, angle)\n",
    "\n",
    "plt.colorbar()\n",
    "\n",
    "\n",
    "plt.show()"
   ]
  },
  {
   "cell_type": "markdown",
   "metadata": {},
   "source": [
    "> **_Задание 2.2. Я ненавижу `scipy.optimize`_**\\\n",
    "Напишите функцию optim_func(), которая будет передаваться в\\\n",
    "функцию модуля `optimize.minimize` для решения задачи оптимизации.\n",
    "\n",
    "Первый аргумент функции **должен** быть списком минимизируемых параметров.\n",
    "Возвращать эта функция должна сумму абсолютных значений функции `ellipse`\\\n",
    "с параметрами, заданными в params и при помощи дополнительных аргументов.\n",
    "\n",
    "Дополнительные аргументы, которые нужно передать в функцию:\\\n",
    "`x_border`, `y_border`, `x_center`, `y_center`.\n",
    "\n",
    "<details>\n",
    "\n",
    "<summary><b>\n",
    ">>> Вариант решения <<<\n",
    "</summary></b>\n",
    "\n",
    "```python\n",
    "\n",
    "def optim_func(params, x_border, y_border, x_center, y_center):\n",
    "    a, b, angle = params\n",
    "\n",
    "    return np.sum(np.abs(ellipse(x_border, y_border, x_center, y_center, a, b, angle)))\n",
    "\n",
    "```\n",
    "\n",
    "</details>"
   ]
  },
  {
   "cell_type": "code",
   "execution_count": 78,
   "metadata": {},
   "outputs": [],
   "source": [
    "# ==============================================================\n",
    "# МЕСТО ДЛЯ ВАШЕГО КОДА\n",
    "\n"
   ]
  },
  {
   "cell_type": "markdown",
   "metadata": {},
   "source": [
    "> **_Интерлюдия 4. Вызываю огонь на себя_**\\\n",
    "В блоке кода ниже вам необходимо дописать вызов функции `minimize`.\\\n",
    "Я предлагаю попробовать это сделать самостоятельно, но не стесняйтесь\\\n",
    "скопировать решение под спойлером ниже, возиться с синтаксисом слишком долго не наша цель.\\\n",
    "Также проверьте, что картинка, которая получается, выглядит разумно.\n",
    "\n",
    "P.S. Имейте в виду, что эта реализация в коде точно будет работать только для моего же решения\\\n",
    "прошлого пункта \n",
    "\n",
    "<details>\n",
    "\n",
    "<summary><b>\n",
    ">>> Вариант решения <<<\n",
    "</summary></b>\n",
    "\n",
    "```python\n",
    "\n",
    "opt_a, opt_b, opt_angle = minimize(optim_func, [a, b, angle], args=(x_border, y_border, x_center, y_center)).x\n",
    "\n",
    "```\n",
    "\n",
    "</details>"
   ]
  },
  {
   "cell_type": "code",
   "execution_count": null,
   "metadata": {},
   "outputs": [],
   "source": [
    "# =============================================================\n",
    "# МЕСТО ДЛЯ ВАШЕГО КОДА\n",
    "\n",
    "\n",
    "\n",
    "# =============================================================\n",
    "\n",
    "plt.close()\n",
    "\n",
    "plt.figure(figsize=(12, 10))\n",
    "\n",
    "plt.imshow(data - header['SKY'], norm=SymLogNorm(1), origin='lower')\n",
    "# draw_ellipse(x_center, y_center, width, height, angle)\n",
    "plt.scatter(x_border, y_border, s=3, c=ellipse(x_border, y_border, x_center, y_center, opt_a, opt_b, opt_angle), cmap='seismic', vmax=1, vmin=-1)\n",
    "# draw_ellipse(x_center, y_center, width, height, angle)\n",
    "draw_ellipse(x_center, y_center, opt_a, opt_b, opt_angle)\n",
    "\n",
    "plt.colorbar()\n",
    "\n",
    "plt.legend(['Border points', 'Center', f'ELLIPSE:\\n a={opt_a:.1f}\\n b={opt_b:.1f}\\n angle={opt_angle:.1f}'])\n",
    "\n",
    "plt.show()"
   ]
  },
  {
   "cell_type": "markdown",
   "metadata": {},
   "source": [
    "> **_Задание 2.3. Промежуточный научный результат._**\\\n",
    "Для подведения итога к этой части практикума получим один физический результат.\\\n",
    "В 1926 году Эдвин Хаббл (тот [самый](https://ru.wikipedia.org/wiki/%D0%A5%D0%B0%D0%B1%D0%B1%D0%BB,_%D0%AD%D0%B4%D0%B2%D0%B8%D0%BD)) предложил [систему классификации](https://ru.wikipedia.org/wiki/%D0%9C%D0%BE%D1%80%D1%84%D0%BE%D0%BB%D0%BE%D0%B3%D0%B8%D1%87%D0%B5%D1%81%D0%BA%D0%B0%D1%8F_%D0%BA%D0%BB%D0%B0%D1%81%D1%81%D0%B8%D1%84%D0%B8%D0%BA%D0%B0%D1%86%D0%B8%D1%8F_%D0%B3%D0%B0%D0%BB%D0%B0%D0%BA%D1%82%D0%B8%D0%BA#%D0%9A%D0%BB%D0%B0%D1%81%D1%81%D0%B8%D1%84%D0%B8%D0%BA%D0%B0%D1%86%D0%B8%D1%8F_%D0%A5%D0%B0%D0%B1%D0%B1%D0%BB%D0%B0) галактик\\\n",
    "на эллиптические, линзовидные, спиральные и неправильные.\\\n",
    "В рамках этого задания вам необходимо вычислить показатель эллиптичности нашей галактики\\\n",
    "по оценке размеров её полуосей и сделать вывод о её классе.\n",
    "\n",
    "**Эллиптичность** галактики вычисляется по формуле:\n",
    "\n",
    "$N = 10\\times(1 - b/a)$\n",
    "\n",
    ", где `a`,`b` - большая и малая полуоси соответственно.\\\n",
    "Обратите внимание, что в нашем случае большая полуось может быть записана в переменную b и наоборот.\n",
    "\n",
    "Классификация эллиптической галактики имеет вид E0-E7, где число - это показатель эллиптичности,\\\n",
    "округленный вниз.\n",
    "\n",
    "<details>\n",
    "<summary><b>\n",
    ">>> Вариант решения <<<\n",
    "</summary></b>\n",
    "\n",
    "```\n",
    "print(10 * (1 - min(opt_a, opt_b) / max(opt_a, opt_b)))\n",
    "```\n",
    "\n",
    "В литературе я встретил разброс классификаций от E3 до E7, но наиболее свежие\\\n",
    "статьи все-таки указывают на **E3-E5**.\n",
    "\n",
    "</details>"
   ]
  },
  {
   "cell_type": "code",
   "execution_count": 80,
   "metadata": {},
   "outputs": [],
   "source": [
    "# =============================================\n",
    "# МЕСТО ДЛЯ ВАШЕГО КОДА\n",
    "\n"
   ]
  },
  {
   "cell_type": "markdown",
   "metadata": {},
   "source": [
    "#### **_Часть 3. Радиальный профиль и профиль Серсика._**\n",
    "Для дальнейшей работы нам хочется описать наблюдаемые данные какой-то\\\n",
    "аналитической функцией, чтобы потом выполнить немного зубодробительного интегрирования.\n",
    "\n",
    "Объект нашего анализа этого раздела - радиальный профиль излучения галактики и его описание\\\n",
    "феноменологической моделью Серсика.\n",
    "\n",
    "Для получения оценки на параметры этой модели применимо к нашим данным **нам нужно**:\n",
    "1. Ограничить область для извлечения радиального профиля.\n",
    "2. Удалить влияние фона из оставшихся данных.\n",
    "3. Получить радиальный профиль.\n",
    "4. Фитировать его известной моделью.\n",
    "\n",
    "Для начала создадим копию массива с данными для дальнейшей модификации."
   ]
  },
  {
   "cell_type": "code",
   "execution_count": 81,
   "metadata": {},
   "outputs": [],
   "source": [
    "data_filtered = data.copy().astype(float)"
   ]
  },
  {
   "cell_type": "markdown",
   "metadata": {},
   "source": [
    "> **_Задание 3.0. Фильтруем фон._**\n",
    "В этом задании вам необходимо:\n",
    "1. Создать двумерный массив координат каждого пикселя X, Y при помощи [`np.meshgrid`](https://numpy.org/doc/stable/reference/generated/numpy.meshgrid.html)\n",
    "2. Написать при помощи функции `ellipse` условие на нахождение точки вне эллипса.\n",
    "3. Заполнить все элементы массива `data_filtered` вне эллипса значениями `np.nan`\n",
    "\n",
    "<details>\n",
    "<summary><b>\n",
    ">>> Вариант решения <<<\n",
    "</summary></b>\n",
    "\n",
    "```python\n",
    "Y, X = np.meshgrid(np.arange(data.shape[0]), np.arange(data.shape[1]))\n",
    "\n",
    "mask_out_ellipse = ellipse(X, Y, x_center, y_center, opt_a, opt_b, opt_angle) > 1.\n",
    "\n",
    "data_filtered[mask_out_ellipse] = np.nan\n",
    "```\n",
    "\n",
    "В литературе я встретил разброс классификаций от E3 до E7, но наиболее свежие\\\n",
    "статьи все-таки указывают на **E3-E5**.\n",
    "\n",
    "</details>"
   ]
  },
  {
   "cell_type": "code",
   "execution_count": 82,
   "metadata": {},
   "outputs": [],
   "source": [
    "# =============================================\n",
    "# МЕСТО ДЛЯ ВАШЕГО КОДА\n",
    "\n"
   ]
  },
  {
   "cell_type": "markdown",
   "metadata": {},
   "source": [
    "> **_Задание 3.1. Удаляем фон._**\\\n",
    "Теперь из каждого оставшегося элемента массива вычтем значение `header[\"SKY\"]`\n",
    "\n",
    "<details>\n",
    "<summary><b>\n",
    ">>> Вариант решения <<<\n",
    "</summary></b>\n",
    "\n",
    "```python\n",
    "data_filtered = data_filtered - header['SKY']\n",
    "```\n",
    "\n",
    "</details>"
   ]
  },
  {
   "cell_type": "code",
   "execution_count": 83,
   "metadata": {},
   "outputs": [],
   "source": [
    "# =============================================\n",
    "# МЕСТО ДЛЯ ВАШЕГО КОДА\n",
    "\n"
   ]
  },
  {
   "cell_type": "markdown",
   "metadata": {},
   "source": [
    "Убедимся, что осталось то, что должно было."
   ]
  },
  {
   "cell_type": "code",
   "execution_count": null,
   "metadata": {},
   "outputs": [],
   "source": [
    "plt.close()\n",
    "plt.figure(figsize=(10, 10))\n",
    "\n",
    "plt.imshow(data_filtered, origin='lower', norm=LogNorm())\n",
    "\n",
    "plt.show()"
   ]
  },
  {
   "cell_type": "markdown",
   "metadata": {},
   "source": [
    "> **_Интерлюдия 5. Размерности важны._**\\\n",
    "В ячейке ниже инициализированы две переменные:\\\n",
    "`pix2arcsec` - переводной коэффициент из пикселей в угловые секунды (арксеки) для данных\\\n",
    "`distance` - массив, который каждому пикселю ставит в соответствие расстояние до него\\\n",
    "в арксеках от центра эллипса.\\\n",
    "Я предлагаю разобраться, как работает код, который позволяет получить расстояния.\n",
    "\n",
    "**_Дополнение._**\\\n",
    "Функция `distance_rotator` выполняет операцию расчета предполагаемого расстояния\\\n",
    "до центра галактики в предположении, что галактика имеет круговую симметрию, но\\\n",
    "повернута к нам под углом. В этом случае предполагается, что длина большой полуоси есть радиус\\\n",
    "галактики, а малая полуось видна сжатой из-за проецирования в 2-D представлении данных с телескопа."
   ]
  },
  {
   "cell_type": "code",
   "execution_count": 85,
   "metadata": {},
   "outputs": [],
   "source": [
    "def distance_rotator(X, Y, x_center, y_center, a, b, angle):\n",
    "    angle_rad = (angle * u.deg).to(u.rad).value\n",
    "    x_p = (X - x_center)*np.cos(angle_rad) + (Y-y_center)*np.sin(angle_rad)\n",
    "    y_p = -(X - x_center)*np.sin(angle_rad) + (Y-y_center)*np.cos(angle_rad)\n",
    "\n",
    "    if a > b:\n",
    "        distance = (x_p ** 2 + y_p ** 2 * (1 + 1/np.tan(np.arcsin(b/a) ** 2))) ** 0.5\n",
    "    elif a < b:\n",
    "        distance = (x_p ** 2 * (1 + 1/np.tan(np.arcsin(a/b) ** 2)) + y_p ** 2) ** 0.5\n",
    "    else:\n",
    "        distance = (x_p ** 2 + y_p ** 2) ** 0.5\n",
    "\n",
    "    return distance"
   ]
  },
  {
   "cell_type": "code",
   "execution_count": 86,
   "metadata": {},
   "outputs": [],
   "source": [
    "pix2arcsec = (header['CDELT2'] * u.deg).to(u.arcsec).value\n",
    "\n",
    "distance = distance_rotator(X, Y, x_center, y_center, opt_a, opt_b, opt_angle)"
   ]
  },
  {
   "cell_type": "markdown",
   "metadata": {},
   "source": [
    "Убедимся, что дистанции (помеченные **черным контуром**), вычисляются корректно.\n",
    "\n",
    "Обратите внимание на **красный контур**, который отображает оценку расстояния без\\\n",
    "предположения о развороте галактики. Она должна совпадать с черным контуром вдоль\\\n",
    "большой полуоси, но быть дальше от центра во всех остальных частях. **_(почему?)_**"
   ]
  },
  {
   "cell_type": "code",
   "execution_count": null,
   "metadata": {},
   "outputs": [],
   "source": [
    "distance1 = distance_rotator(X, Y, x_center, y_center, opt_a, opt_a, opt_angle)\n",
    "\n",
    "plt.close()\n",
    "plt.figure(figsize=(20, 10))\n",
    "\n",
    "plt.subplot(1, 2, 1)\n",
    "\n",
    "plt.imshow(data_filtered, origin='lower', norm=LogNorm())\n",
    "cont = plt.contour(distance, origin='lower', colors='black', levels=[50, 100, 150])\n",
    "cont1 = plt.contour(distance1, origin='lower', colors='tab:red', levels=[50, 100, 150], alpha=0.5)\n",
    "plt.clabel(cont, [50, 100, 150])\n",
    "plt.clabel(cont1, [50, 100, 150])\n",
    "\n",
    "plt.subplot(1, 2, 2)\n",
    "\n",
    "plt.scatter(distance, data_filtered, s=3)\n",
    "\n",
    "plt.xscale('log')\n",
    "plt.yscale('log')\n",
    "\n",
    "plt.xlabel('Distance, arcsec', fontsize=18)\n",
    "plt.ylabel('Counts')\n",
    "\n",
    "plt.show()\n"
   ]
  },
  {
   "cell_type": "markdown",
   "metadata": {},
   "source": [
    "> **_Задание 3.2. Радиальный профиль._**\\\n",
    "Вам необходимо дополнить код внутри цикла для того,\\\n",
    "чтобы вычислить среднее значение и среднеквадратичное отклонение\\\n",
    "числа отсчетов в небольших кольцах вокруг центра эллипса.\n",
    "\n",
    "Если хотите, попробуйте также разобраться, что делают уже написанные\\\n",
    "блоки кода.\n",
    "\n",
    "<details>\n",
    "<summary><b>\n",
    ">>> Вариант решения <<<\n",
    "</summary></b>\n",
    "\n",
    "```python\n",
    "distance_grid = np.geomspace(1, 100, 30)\n",
    "\n",
    "counts = np.zeros(len(distance_grid) - 1)\n",
    "counts_std = np.zeros(len(distance_grid) - 1)\n",
    "\n",
    "for idx in range(len(distance_grid)-1):\n",
    "\n",
    "#=============================================================\n",
    "# МЕСТО ДЛЯ ВАШЕГО КОДА\n",
    "    curr_data = data_filtered[(distance >= distance_grid[idx]/pix2arcsec) * (distance < distance_grid[idx+1]/pix2arcsec)]\n",
    "    counts[idx] = curr_data.mean() \n",
    "    counts_std[idx] = curr_data.std()\n",
    "\n",
    "#=============================================================\n",
    "distances = (distance_grid[1:] + distance_grid[:-1])/2\n",
    "\n",
    "distances = distances[~np.isnan(counts)]\n",
    "counts_std = counts_std[~np.isnan(counts)]\n",
    "counts = counts[~np.isnan(counts)]\n",
    "```\n",
    "\n",
    "</details>"
   ]
  },
  {
   "cell_type": "code",
   "execution_count": null,
   "metadata": {},
   "outputs": [],
   "source": [
    "distance_grid = np.geomspace(1, 90, 30)\n",
    "\n",
    "counts = np.zeros(len(distance_grid) - 1)\n",
    "counts_std = np.zeros(len(distance_grid) - 1)\n",
    "\n",
    "for idx in range(len(distance_grid)-1):\n",
    "\n",
    "#=============================================================\n",
    "# МЕСТО ДЛЯ ВАШЕГО КОДА\n",
    "\n",
    "\n",
    "#=============================================================\n",
    "distances = (distance_grid[1:] + distance_grid[:-1])/2\n",
    "\n",
    "distances = distances[~np.isnan(counts)]\n",
    "counts_std = counts_std[~np.isnan(counts)]\n",
    "counts = counts[~np.isnan(counts)]"
   ]
  },
  {
   "cell_type": "markdown",
   "metadata": {},
   "source": [
    "> **_Задание 3.3. Графики наше все._**\\\n",
    "Постройте график полученного радиального профиля с ошибками.\\\n",
    "Обратите внимание, что предыдущий график изображался в log-log масштабе.\n",
    "\n",
    "\n",
    "<details>\n",
    "<summary><b>\n",
    ">>> Вариант решения <<<\n",
    "</summary></b>\n",
    "\n",
    "```python\n",
    "\n",
    "plt.close()\n",
    "plt.figure(figsize=(10, 10))\n",
    "\n",
    "plt.scatter(distance, data_filtered, s=3, label='Raw points')\n",
    "plt.errorbar(distances, counts, counts_std, 0, color='black', fmt='.', label='Radial profile')\n",
    "\n",
    "plt.xscale('log')\n",
    "plt.yscale('log')\n",
    "\n",
    "plt.xlabel('Distance, arcsec')\n",
    "plt.ylabel('Counts')\n",
    "\n",
    "plt.legend()\n",
    "\n",
    "plt.show()\n",
    "```\n",
    "\n",
    "</details>"
   ]
  },
  {
   "cell_type": "code",
   "execution_count": null,
   "metadata": {},
   "outputs": [],
   "source": [
    "# =========================================\n",
    "# МЕСТО ДЛЯ ВАШЕГО КОДА\n",
    "\n"
   ]
  },
  {
   "cell_type": "markdown",
   "metadata": {},
   "source": [
    "> **_Интерлюдия 6. Снова проклятое фитирование._**\\\n",
    "В блоке кода ниже приведен феноменологический [профиль Серсика](https://en.wikipedia.org/wiki/S%C3%A9rsic_profile),\\\n",
    "которым фитируются радиальные профили. Мы не будем снова ковыряться с новой функцией для фита [`curve_fit`](https://docs.scipy.org/doc/scipy/reference/generated/scipy.optimize.curve_fit.html),\\\n",
    "но обратите внимание, что она отличается от ранее использованного `minimize`.\n",
    "\n",
    "Профиль Серсика содержит 3 свободных параметра, про которые можно подробнее почитать по ссылке выше."
   ]
  },
  {
   "cell_type": "code",
   "execution_count": 90,
   "metadata": {},
   "outputs": [],
   "source": [
    "def sers(R, I_e, n, R_half):\n",
    "    return I_e * np.exp(-(2*n - 1./3 + 4./(405*n) + 46./(25515*n**2) + \\\n",
    "                          131./(1148175*n**3)- 2194697./(30690717750*n**4))*((R/R_half)**(1/n) - 1) )\n",
    "# наша функция Серсика\n",
    "\n",
    "kd, cov = curve_fit(sers, distances, counts, p0=[10, 3, 40], sigma=counts_std, absolute_sigma=True)\n",
    "I_e, n, R_half = kd"
   ]
  },
  {
   "cell_type": "markdown",
   "metadata": {},
   "source": [
    "Убедимся, что все фитируется как надо."
   ]
  },
  {
   "cell_type": "code",
   "execution_count": null,
   "metadata": {},
   "outputs": [],
   "source": [
    "plt.close()\n",
    "plt.figure(figsize=(10, 10))\n",
    "\n",
    "plt.scatter(distance, data_filtered, s=3, label='Raw points')\n",
    "plt.errorbar(distances, counts, counts_std, 0, color='black', fmt='.', label='Radial profile')\n",
    "\n",
    "x_sers = np.geomspace(1, 100, 1000)\n",
    "plt.plot(x_sers, sers(x_sers, I_e, n, R_half), color='red', label='Sersic profile')\n",
    "\n",
    "plt.xscale('log')\n",
    "plt.yscale('log')\n",
    "\n",
    "plt.xlabel('Distance, arcsec')\n",
    "plt.ylabel('Counts')\n",
    "\n",
    "plt.legend()\n",
    "\n",
    "plt.show()"
   ]
  },
  {
   "cell_type": "markdown",
   "metadata": {},
   "source": [
    "Итак, мы получили аналитическую функцию для описания профиля поверхностной яркости\\\n",
    "от расстояния от центра галактики.\n",
    "\n",
    "Также обратим внимание, что в профиле Серсика фигурирует оценка параметра характерного радиуса\\\n",
    "половинной яркости, которая нам пригодится позже."
   ]
  },
  {
   "cell_type": "code",
   "execution_count": null,
   "metadata": {},
   "outputs": [],
   "source": [
    "print(f'R_0.5 = {R_half:.3f} arcsec')"
   ]
  },
  {
   "cell_type": "markdown",
   "metadata": {},
   "source": [
    "#### **_Часть 4. Дисперсия радиальных скоростей._**\n",
    "\n",
    "Мы получили модель, которая неплохо описывает радиальный профиль излучения галактики,\\\n",
    "теперь все, что нам нужно для оценки массы - это профиль дисперсии скоростей.\n",
    "\n",
    "Эта информация получается при помощи спектрального анализа в оптике, когда принимаемый поток\\\n",
    "пропускается через узкую щель, затем расщепляется на спектр и анализируется.\n",
    "\n",
    "По ширине известных спектральных линий можно определить дисперсию скоростей объектов,\\\n",
    "которые попало в поле зрения щели.\n",
    "\n",
    "Именно эти данные о дисперсии скоростей на разном угловом расстоянии от центра галактики\\\n",
    "и хранятся в файле [`M59_LOSVD.txt`](./data/M59/M59_LOSVD.txt).\n",
    "\n",
    "**Этот файл представляет собой таблицу с информацией о**:\\\n",
    "`Angle` -- поворот щели (deg) относительно оси Y против часовой стрелки\\\n",
    "`Offset` -- сдвиг (arcsec) относительно центра щели (центра галактики)\\\n",
    "`Sigma` -- измеренное (km/s) среднеквадратичное отклонение скоростей на данном расстоянии\\\n",
    "`err_Sigma` -- измеренная ошибка (km/s) `Sigma` на данном расстоянии.\n",
    "\n",
    "Представим его в виде уже привычного `np.recarray`:"
   ]
  },
  {
   "cell_type": "code",
   "execution_count": null,
   "metadata": {},
   "outputs": [],
   "source": [
    "radvel_data=pd.read_table('./data/M59/M59_LOSVD.txt', delimiter=r\"\\s+\").to_records(index=None)\n",
    "\n",
    "radvel_data"
   ]
  },
  {
   "cell_type": "markdown",
   "metadata": {},
   "source": [
    "Как видно из полученной таблицы, в нашем наблюдении снимались профили дисперсии скоростей\\\n",
    "в двух перпендикулярных скоростях. Мы будем обрабатывать их немного по-разному, поэтому:\n",
    "\n",
    "> **_Задание 4.0. Разделяй и ~~властвуй~~ считай._**\\\n",
    "В этом задании необходимо представить `radvel_data` в виде двух объектов `np.recarray`,\\\n",
    "в каждом из которых будет информация только о наблюдениях с одного угла щели.\n",
    "\n",
    "Запишите полученные объекты в переменные `radvel_angle1` и `radvel_angle2`\n",
    "\n",
    "<details>\n",
    "<summary><b>\n",
    ">>> Вариант решения <<<\n",
    "</summary></b>\n",
    "\n",
    "```python\n",
    "angles = np.unique(radvel_data['Angle'])\n",
    "radvel_angle1 = radvel_data[radvel_data['Angle'] == angles[0]]\n",
    "radvel_angle2 = radvel_data[radvel_data['Angle'] == angles[1]]\n",
    "```\n",
    "\n",
    "</details>"
   ]
  },
  {
   "cell_type": "code",
   "execution_count": 94,
   "metadata": {},
   "outputs": [],
   "source": [
    "# ==================================\n",
    "# МЕСТО ДЛЯ ВАШЕГО КОДА\n",
    "\n"
   ]
  },
  {
   "cell_type": "markdown",
   "metadata": {},
   "source": [
    "Убедимся, что наш код делает то, что нужно:"
   ]
  },
  {
   "cell_type": "code",
   "execution_count": null,
   "metadata": {},
   "outputs": [],
   "source": [
    "radvel_angle1, radvel_angle2"
   ]
  },
  {
   "cell_type": "markdown",
   "metadata": {},
   "source": [
    "> **_Интерлюдия 7. Помещаем щели в контекст происходящего_**\\\n",
    "Код ниже выполняет преобразование известного угла поворота щели и сдвига от центра в координаты x, y\\\n",
    "в пикселях. Нарисуем положение каждой точки нашей зависимости дисперсии на изображении галактики.\\\n",
    "Попробуйте разобраться, что происходит в этом коде, и как были получены эти координаты."
   ]
  },
  {
   "cell_type": "code",
   "execution_count": null,
   "metadata": {},
   "outputs": [],
   "source": [
    "x1_dispersion=x_center + radvel_angle1['Offset']*np.sin(-np.pi/180*radvel_angle1['Angle'])/pix2arcsec\n",
    "y1_dispersion=y_center + radvel_angle1['Offset']*np.cos(-np.pi/180*radvel_angle1['Angle'])/pix2arcsec\n",
    "\n",
    "x2_dispersion=x_center + radvel_angle2['Offset']*np.sin(-np.pi/180*radvel_angle2['Angle'])/pix2arcsec\n",
    "y2_dispersion=y_center + radvel_angle2['Offset']*np.cos(-np.pi/180*radvel_angle2['Angle'])/pix2arcsec\n",
    "\n",
    "plt.close()\n",
    "\n",
    "plt.figure(figsize=(12, 10))\n",
    "\n",
    "plt.imshow(data - header['SKY'], norm=SymLogNorm(1), origin='lower')\n",
    "plt.colorbar()\n",
    "draw_ellipse(x_center, y_center, opt_a, opt_b, opt_angle)\n",
    "\n",
    "plt.plot(x1_dispersion, y1_dispersion,'o', label=f'Angle 1 = {radvel_angle1[\"Angle\"][0]:3.0f} deg')\n",
    "plt.plot(x2_dispersion, y2_dispersion,'o', label=f'Angle 2 = {radvel_angle2[\"Angle\"][0]:3.0f} deg')\n",
    "\n",
    "plt.legend(fontsize=18)\n",
    "\n",
    "plt.show()"
   ]
  },
  {
   "cell_type": "markdown",
   "metadata": {},
   "source": [
    "Как видно из графика (если весь код выше выполнен без критических ошибок), дисперсии скоростей\\\n",
    "измерены почти вдоль полученных осей нашего эллипса. Тогда, вновь предполагая круговую морфологию\\\n",
    "наблюдаемой галактики, можно оценить истинное расстояние до измерений вдоль малой полуоси через коэффициент,\\\n",
    "зависящий только от отношения размеров полуосей.\n",
    "\n",
    "> **_Задание 4.1. Корректируем на проекцию._**\\\n",
    "Вычислите предполагаемое расстояние измерения дисперсии скоростей (`Offset`) вдоль малой полуоси.\\\n",
    "Нанесите скорректированный профиль и профиль второго распределения дисперсии на один график и убедитесь,\\\n",
    "что они совпадают.\n",
    "\n",
    "<details>\n",
    "<summary><b>\n",
    ">>> Вариант решения <<<\n",
    "</summary></b>\n",
    "\n",
    "```python\n",
    "new_offset = radvel_angle1['Offset'] * opt_b/ opt_a\n",
    "\n",
    "plt.close()\n",
    "plt.figure(figsize=(10, 6))\n",
    "\n",
    "plt.errorbar(new_offset, radvel_angle1['Sigma'], radvel_angle1['err_Sigma'], fmt='.', label='Angle 1')\n",
    "plt.errorbar(radvel_angle2['Offset'], radvel_angle2['Sigma'], radvel_angle2['err_Sigma'], fmt='.', label='Angle 2')\n",
    "plt.legend()\n",
    "\n",
    "plt.xlabel('Offset, arcsec')\n",
    "plt.ylabel(r'$\\rm \\sigma V, km/s$')\n",
    "\n",
    "plt.show()\n",
    "```\n",
    "\n",
    "</details>"
   ]
  },
  {
   "cell_type": "code",
   "execution_count": null,
   "metadata": {},
   "outputs": [],
   "source": [
    "# =============================================\n",
    "# МЕСТО ДЛЯ ВАШЕГО КОДА\n",
    "\n"
   ]
  },
  {
   "cell_type": "markdown",
   "metadata": {},
   "source": [
    "> **_Задание 4.2. Собираем кусочки для фитирования._**\\\n",
    "Для наших (пока туманных) целей, необходимо найти какую-то модельную\\\n",
    "зависимость **квадрата** отклонения скоростей от углового расстояния.\\\n",
    "Ваша задача в этом задании -- создать 3 массива:\\\n",
    "`radii` -- массив абсолютных значений угловых расстояний для измерений `двух щелей`,\\\n",
    "`sigmas2` -- массив **квадратов** ср.кв.отклонений скоростей для соответствующих расстояний,\\\n",
    "`err_sigmas2` -- массив ошибок квадратов ср.кв.отклонений скоростей.\n",
    "\n",
    "*Подсказка 1.*\\\n",
    "Это задание удобно выполнять, используя функцию `np.concatenate`, которая\\\n",
    "объединяет несколько переданных массивов в один без изменения порядка элементов.\n",
    "\n",
    "```python\n",
    "np.concatenate([array1, array2, array3]) -> [большой общий массив]\n",
    "```\n",
    "\n",
    "*Подсказка 2.*\\\n",
    "Для вычисления ошибки квадрата случайной величины воспользуйтесь формулой переноса\\\n",
    "ошибки [через производную функции (стр. 2)](https://www.inp.nsk.su/~korol/FTI/slides-errors.pdf).\n",
    "\n",
    "<details>\n",
    "<summary><b>\n",
    ">>> Вариант решения <<<\n",
    "</summary></b>\n",
    "\n",
    "```python\n",
    "radii = np.abs(np.concatenate(new_offset, radvel_angle2['Offset']]))\n",
    "\n",
    "sigmas2 = np.concatenate([radvel_angle1['Sigma'] ** 2 , radvel_angle2['Sigma'] ** 2])\n",
    "\n",
    "err_sigmas2 = np.concatenate([2 * radvel_angle1['err_Sigma'] * radvel_angle1['Sigma'], \n",
    "                              2 * radvel_angle2['err_Sigma'] * radvel_angle2['Sigma']])\n",
    "```\n",
    "\n",
    "</details>\n"
   ]
  },
  {
   "cell_type": "code",
   "execution_count": 98,
   "metadata": {},
   "outputs": [],
   "source": [
    "# ============================================\n",
    "# МЕСТО ДЛЯ ВАШЕГО КОДА\n",
    "\n"
   ]
  },
  {
   "cell_type": "markdown",
   "metadata": {},
   "source": [
    "> **_Задание 4.3. Новая форма издевательства._**\\\n",
    "В этом задании необходимо провести фитирование при помощи функции из модуля `scipy`\\\n",
    "под названием [`curve_fit`](https://docs.scipy.org/doc/scipy/reference/generated/scipy.optimize.curve_fit.html).\\\n",
    "Обратите внимание, что принимает она не то же, что `scipy.optimize.minimize`! (см. ниже).\\\n",
    "Допишите функцию `gauss`, которая будет фитировать полученный профиль гауссианной\\\n",
    "с 3 параметрами:\n",
    "`ampl` -- максимальная высота гауссианы\\\n",
    "`sig` -- ширина гауссианы\\\n",
    "`const_lvl` -- постоянный уровень, на который функция выходит на бесконечности.\n",
    "\n",
    "*Подсказка 1.*\\\n",
    "Функция `curve_fit(f, xdata, ydata, p0, ...)` в качестве первого аргумента принимает функцию,\\\n",
    "которая для заданных точек `xdata` вычислит значение модели и сравнит с `ydata`.\\\n",
    "p0 - список параметров для начального предположения. В нашем случае имеет вид типа:\\\n",
    "p0 = [init_ampl, init_sig, init_const_lvl].\n",
    "\n",
    "В этом задании вам не обязательно пытаться самостоятельно написать код для фитирования,\\\n",
    "но постарайтесь дописать функцию `gauss` и разобраться во всем остальном.\n",
    "\n",
    "<details>\n",
    "<summary><b>\n",
    ">>> Вариант решения <<<\n",
    "</summary></b>\n",
    "\n",
    "```python\n",
    "def gauss(x, ampl, sig, const_lvl):\n",
    "    return ampl * np.exp(-x**2 / sig**2) + const_lvl\n",
    "```\n",
    "\n",
    "</details>"
   ]
  },
  {
   "cell_type": "code",
   "execution_count": null,
   "metadata": {},
   "outputs": [],
   "source": [
    "def gauss(x, ampl, sig, const_lvl):\n",
    "    # ================================================\n",
    "    # МЕСТО ДЛЯ ВАШЕГО КОДА\n",
    "\n",
    "\n",
    "    return # МЕСТО ДЛЯ КОДА\n",
    "    # ================================================\n",
    "\n",
    "kd, cov = curve_fit(gauss, radii, sigmas2,p0=[30000, 30, 30000], \n",
    "                 method='trf', sigma=err_sigmas2)\n",
    "ampl, sig, const_lvl = kd\n",
    "\n",
    "ang_dist_plot = np.arange(0, np.max(radii), 0.1)\n",
    "plt.figure(figsize=(16,9))\n",
    "\n",
    "plt.errorbar(radii, sigmas2, err_sigmas2, fmt='.')\n",
    "\n",
    "plt.plot(ang_dist_plot,  gauss(ang_dist_plot, ampl, sig, const_lvl), color='black')\n",
    "\n",
    "plt.xlabel('Offset, arcsec')\n",
    "plt.ylabel(r'$\\rm \\sigma V^2, km^2/s^2$')\n",
    "\n",
    "plt.show()"
   ]
  },
  {
   "cell_type": "markdown",
   "metadata": {},
   "source": [
    "Итак, мы получили 2 аналитические функции, которые хорошо описывают радиальный профиль излучения галактики,\\\n",
    "а также распределение дисперсии скоростей от расстояния.\n",
    "\n",
    "Теперь наша заключительная часть -- понять, как из этого на самом деле оценить массу галактики."
   ]
  },
  {
   "cell_type": "markdown",
   "metadata": {},
   "source": [
    "#### *__Часть 5. Достаем результат.__*\n",
    "\n",
    "Для получения результата обратимся к конкретным физическим выкладкам\\\n",
    "которые я собрал в отдельный [пдф-файл](./Документ%20с%20фокусами%20для%20оценки%20массы%20галактики.pdf).\n",
    "\n",
    "> **_Задание 5.0. Подучиваем матчасть._**\\\n",
    "Изучите файл с теоретическими выкладками и сопоставьте полученные\\\n",
    "выше результаты с наблюдаемыми параметрами, которые приведены в\\\n",
    "итоговой формуле.\n",
    "\n",
    "<details>\n",
    "<summary><b>\n",
    ">>> Вариант решения <<<\n",
    "</summary></b>\n",
    "\n",
    "В формуле фигурируют три наблюдаемых параметра, которые мы используем:\n",
    "1. Профиль поверхностной яркости (профиль Серсика);\n",
    "2. Профиль дисперсии скоростей вдоль оси z (модель гауссианы);\n",
    "3. Характерный радиус полусветимости (параметр модели Серсика).\n",
    "\n",
    "</details>"
   ]
  },
  {
   "cell_type": "markdown",
   "metadata": {},
   "source": [
    "Как вы можете обратить внимание, все наши расстояния приведены\\\n",
    "в арксекундах, а для корректных вычислений мы хотим получить их в\\\n",
    "единицах расстояния (парсеках, километрах, метрах).\n",
    "\n",
    "Для этого нам необходимо вычислить переводной коэффициент из арксек в килопарсеки.\\\n",
    "Для его вычисления нам нужно знать расстояние до галактики.\n",
    "\n",
    "В рамках этой работы мы не можем самостоятельно узнать расстояние до объекта с нашими\\\n",
    "данными, поэтому обратимся к чужим результатам:\n",
    "\n",
    "> **_Задание 5.1. Обращаемся к датабазам._**\\\n",
    "Найдите в архиве каталогов [VizieR](https://vizier.cds.unistra.fr/viz-bin/VizieR) каталог галактик [Cosmicflows-3](https://ui.adsabs.harvard.edu/abs/2016AJ....152...50T/abstract).\\\n",
    "В этом каталоге найдите галактику M59 (по координатам или по названию).\\\n",
    "В данных каталога найдите оценку на расстояние и укажите его в переменной `galaxy_dist`.\\\n",
    "Затем вычислите переводной коэффициент для перевода угловых секунд в расстояния в виде\\\n",
    "переменной `arcsec2dist`.\n",
    "\n",
    "<details>\n",
    "<summary><b>\n",
    ">>> Вариант решения <<<\n",
    "</summary></b>\n",
    "\n",
    "```python\n",
    "galaxy_dist = 15.35 * u.Mpc\n",
    "\n",
    "arcsec2dist=((1 * u.arcsec).to(u.rad).value * (galaxy_dist).to(u.kpc))\n",
    "```\n",
    "\n",
    "</details>"
   ]
  },
  {
   "cell_type": "code",
   "execution_count": 100,
   "metadata": {},
   "outputs": [],
   "source": [
    "# ==============================================\n",
    "# МЕСТО ДЛЯ ВАШЕГО КОДА\n",
    "\n",
    "\n"
   ]
  },
  {
   "cell_type": "markdown",
   "metadata": {},
   "source": [
    "> **_Задание 5.2. Считаем усредненную дисперсию._**\\\n",
    "Теперь при помощи функции [`quad`](https://docs.scipy.org/doc/scipy/reference/generated/scipy.integrate.quad.html) вычислим усредненную\\\n",
    "по яркости дисперсию скоростей (см. формулу в файле с теорией).\n",
    "\n",
    "Для референса использования кода посмотрите на пример ниже:\n",
    "\n",
    "```python\n",
    "quad(функция от 1 переменной, нижний предел, верхний предел)\n",
    "\n",
    "Возвращает:\n",
    "[0] -- значение определенного интеграла\n",
    "[1] -- оценка ошибки из-за численного вычисления интеграла\n",
    "```"
   ]
  },
  {
   "cell_type": "code",
   "execution_count": null,
   "metadata": {},
   "outputs": [],
   "source": [
    "example_func = lambda r: np.sin(np.pi * r)\n",
    "\n",
    "integral_result1 = quad(example_func, 0, 1)[0]\n",
    "print(integral_result1)\n",
    "\n",
    "integral_result2 = quad(example_func, 0, 2)[0]\n",
    "print(integral_result2)"
   ]
  },
  {
   "cell_type": "markdown",
   "metadata": {},
   "source": [
    "<details>\n",
    "<summary><b>\n",
    ">>> Вариант решения <<<\n",
    "</summary></b>\n",
    "\n",
    "```python\n",
    "func_up=lambda r: gauss(r, ampl, sig, const_lvl) * sers(r, I_e, n, R_half) * r\n",
    "integral_up=quad(func_up, 0, 150)[0]\n",
    "\n",
    "func_down=lambda r: sers(r, I_e, n, R_half) * r\n",
    "integral_down=quad(func_down, 0, 150)[0]\n",
    "\n",
    "averaged_dispersion=(integral_up/integral_down * u.km ** 2 / u.s ** 2)\n",
    "```\n",
    "\n",
    "</details>"
   ]
  },
  {
   "cell_type": "code",
   "execution_count": 102,
   "metadata": {},
   "outputs": [],
   "source": [
    "# =====================================================\n",
    "# МЕСТО ДЛЯ ВАШЕГО КОДА\n",
    "\n"
   ]
  },
  {
   "cell_type": "markdown",
   "metadata": {},
   "source": [
    "> **_Задание 5.3. Финишная прямая._**\\\n",
    "По формуле из теоретических выкладок получим оценку на массу галактики M59.\\\n",
    "Обратите внимание на размерности величин, которые вставляете в формулу.\\\n",
    "На выходе у вас должны остаться только килограммы.\\\n",
    "Ответ выразите в массах Солнца.\n",
    "\n",
    "Для удобства ниже из модуля константы импортировано значение гравитационной постоянной."
   ]
  },
  {
   "cell_type": "code",
   "execution_count": null,
   "metadata": {},
   "outputs": [],
   "source": [
    "from astropy.constants import G\n",
    "\n",
    "print(G)"
   ]
  },
  {
   "cell_type": "markdown",
   "metadata": {},
   "source": [
    "<details>\n",
    "<summary><b>\n",
    ">>> Вариант решения <<<\n",
    "</summary></b>\n",
    "\n",
    "```python\n",
    "R_half_distance = (R_half*arcsec2dist)\n",
    "\n",
    "M = 10 * averaged_dispersion * R_half_distance / G\n",
    "\n",
    "print(f'M59 mass estimate = {M.to(u.M_sun):.2E}')\n",
    "```\n",
    "\n",
    "</details>"
   ]
  },
  {
   "cell_type": "code",
   "execution_count": null,
   "metadata": {},
   "outputs": [],
   "source": [
    "# =====================================================\n",
    "# МЕСТО ДЛЯ ВАШЕГО КОДА\n",
    "\n",
    "\n"
   ]
  },
  {
   "cell_type": "markdown",
   "metadata": {},
   "source": [
    "<details>\n",
    "<summary><b>\n",
    ">>> Финальный ответ <<<\n",
    "</summary></b>\n",
    "\n",
    "Результат измерения массы, который получился у меня - 2,6E+11 масс Солнца.\n",
    "В литературе приводятся значения типа 1,1E+11 масс Солнца, но, с учетом\\\n",
    "простоты наших предположений оценка по порядку является нормальной.\n",
    "\n",
    "</details>"
   ]
  },
  {
   "cell_type": "markdown",
   "metadata": {},
   "source": [
    "На этом у меня все. Если вы все закончили, и у вас осталось много времени,\\\n",
    "вы можете попробовать повторить этот анализ для другой эллиптической галактики\\\n",
    "M87. Файлы для нее лежат в папке M87 данных этого практикума.\n",
    "\n",
    "Это задание очень дополнительное, но может быть полезно для того, чтобы лучше разобраться\\\n",
    "во всей методике."
   ]
  },
  {
   "cell_type": "code",
   "execution_count": null,
   "metadata": {},
   "outputs": [],
   "source": [
    "# ================================================\n",
    "# МЕСТО ДЛЯ ВАШЕГО ФРИСТАЙЛА\n",
    "\n",
    "\n"
   ]
  }
 ],
 "metadata": {
  "kernelspec": {
   "display_name": "Python 3",
   "language": "python",
   "name": "python3"
  },
  "language_info": {
   "codemirror_mode": {
    "name": "ipython",
    "version": 3
   },
   "file_extension": ".py",
   "mimetype": "text/x-python",
   "name": "python",
   "nbconvert_exporter": "python",
   "pygments_lexer": "ipython3",
   "version": "3.9.7"
  }
 },
 "nbformat": 4,
 "nbformat_minor": 2
}
