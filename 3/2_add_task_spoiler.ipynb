{
 "cells": [
  {
   "cell_type": "code",
   "execution_count": 2,
   "metadata": {},
   "outputs": [],
   "source": [
    "import numpy as np\n",
    "import matplotlib.pyplot as plt\n",
    "from astropy.io.fits import getdata"
   ]
  },
  {
   "cell_type": "code",
   "execution_count": 3,
   "metadata": {},
   "outputs": [],
   "source": [
    "data = getdata('./3_supplementary/task3/CenX3.fits')"
   ]
  },
  {
   "cell_type": "code",
   "execution_count": 4,
   "metadata": {},
   "outputs": [],
   "source": [
    "data2d, xcoord, ycoord = np.histogram2d(data['X'], data['Y'], range=((400, 600), (400, 600)), bins=(200, 200))"
   ]
  },
  {
   "cell_type": "code",
   "execution_count": 5,
   "metadata": {},
   "outputs": [],
   "source": [
    "space_vals = np.sqrt((np.arange(400, 600).reshape(1, -1) - 500) ** 2 + (np.arange(400, 600).reshape(-1, 1) - 500) ** 2)"
   ]
  },
  {
   "cell_type": "code",
   "execution_count": 6,
   "metadata": {},
   "outputs": [],
   "source": [
    "rad_vals = np.zeros(20)\n",
    "rad_prof = np.zeros(20)\n",
    "rad_prof_err = np.zeros(20)\n",
    "for i in range(20):\n",
    "    condition = (space_vals >= 5 + 5*i) & (space_vals < 10 + 5*i) \n",
    "    curr_data = data2d[condition]\n",
    "    rad_vals[i] = 7.5 + 5*i\n",
    "    rad_prof[i] = curr_data.mean()\n",
    "    rad_prof_err[i] = curr_data.std()"
   ]
  },
  {
   "cell_type": "code",
   "execution_count": 7,
   "metadata": {},
   "outputs": [
    {
     "data": {
      "image/png": "[encoded data removed]",
      "text/plain": [
       "<Figure size 720x576 with 1 Axes>"
      ]
     },
     "metadata": {
      "needs_background": "light"
     },
     "output_type": "display_data"
    }
   ],
   "source": [
    "plt.close()\n",
    "plt.figure(figsize=(10, 8))\n",
    "\n",
    "plt.errorbar(rad_vals, rad_prof, rad_prof_err, 2.5, fmt='.')\n",
    "plt.yscale('log')\n",
    "\n",
    "plt.ylabel('Mean countrate')\n",
    "plt.xlabel('Radius, pixels')\n",
    "\n",
    "plt.show()"
   ]
  }
 ],
 "metadata": {
  "kernelspec": {
   "display_name": "Python 3",
   "language": "python",
   "name": "python3"
  },
  "language_info": {
   "codemirror_mode": {
    "name": "ipython",
    "version": 3
   },
   "file_extension": ".py",
   "mimetype": "text/x-python",
   "name": "python",
   "nbconvert_exporter": "python",
   "pygments_lexer": "ipython3",
   "version": "3.9.7"
  }
 },
 "nbformat": 4,
 "nbformat_minor": 2
}
