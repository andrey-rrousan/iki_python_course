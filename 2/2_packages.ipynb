{
 "cells": [
  {
   "cell_type": "markdown",
   "metadata": {},
   "source": [
    "## **Введение в Python**\n",
    "\n",
    "### **Занятие 2. Модули numpy и matplotlib.**"
   ]
  },
  {
   "cell_type": "markdown",
   "metadata": {},
   "source": [
    "**Что сегодня по плану?**\\\n",
    "На этом занятии мы будем обсуждать два ключевых модуля для работы с данными на `Python`.\\\n",
    "`NumPy` &mdash; Работа с n-мерными массивами данных, операции с матрицами.\\\n",
    "`Matplotlib` &mdash; мощный модуль для построения графиков с большой гибкостью.\\\n",
    "Еще сегодня мимоходом затронем модуль `AstroPY`, а именно его часть `astropy.io.fits`.\n",
    "\n",
    "**Зачем это нужно нам?**\\\n",
    "Типичный процесс работы с данными в астрофизике:\n",
    "1. скачать данные с сервера;\n",
    "2. открыть данные в FITS-формате;\n",
    "3. выполнить необходимую обработку;\n",
    "4. нарисовать репрезентативные графики;\n",
    "5. представить результаты общественности.\n",
    "\n",
    "Нетрудно увидеть, что сегодня мы постараемся покрыть все аспекты этой работы, кроме первого и последнего."
   ]
  },
  {
   "cell_type": "markdown",
   "metadata": {},
   "source": [
    "#### **Часть 0. Коротко про модули.**"
   ]
  },
  {
   "cell_type": "markdown",
   "metadata": {},
   "source": [
    "**Модули** &mdash; это самостоятельные блоки кода на `Python`, которые можно включать в свои проекты.\\\n",
    "Модули, как правило, состоят из набора функций или классов, которые направлены на решение конкретных задач.\n",
    "\n",
    "**Установка.**\\\n",
    "Для установки модулей обычно достаточно использовать команду `pip` (или `conda`, если вы используете Anaconda).\\\n",
    "Например, сегодня нам пригодятся модули `numpy`, `matplotlib` и `astropy`.\\\n",
    "Для их установки используем **в консоли** команду:\n",
    "``` bash\n",
    "pip install numpy matplotlib astropy\n",
    "```\n",
    "\n",
    "Альтернативно, среда Jupyter Notebook позволяет выполнять консольные команды прямо из ячейки.\\\n",
    "Для этого нужно прописать ту же команду, но со знаком `!`, как показано в ячейке ниже:"
   ]
  },
  {
   "cell_type": "code",
   "execution_count": 21,
   "metadata": {},
   "outputs": [],
   "source": [
    "# РАСКОМЕНТИРУЙТЕ ТУ СТРОЧКУ, КОТОРАЯ ПОДХОДИТ ВАШЕЙ СРЕДЕ.\n",
    "\n",
    "# PIP ЕСЛИ ВЫ ИСПОЛЬЗУЕТЕ ОБЫЧНЫЙ PYTHON\n",
    "# !pip install numpy matplotlib astropy\n",
    "\n",
    "# CONDA ЕСЛИ ВЫ ИСПОЛЬЗУЕТЕ ВИРТУАЛЬНОЕ ОКРУЖЕНИЕ ВНУТРИ ANACONDA\n",
    "# !conda install numpy matplotlib astropy"
   ]
  },
  {
   "cell_type": "markdown",
   "metadata": {},
   "source": [
    "**Использование в своем коде.**\\\n",
    "Чтобы использовать функицонал установленных модулей, необходимо импортировать их в свой проект.\\\n",
    "Вне зависимости от того, работаете вы в Jupyter-ноутбуке или в чистом Py-файле, импорт модулей выглядит так:\n",
    "\n",
    "```python\n",
    "import numpy\n",
    "```\n",
    "В этом случае вызов функций, содержащихся в модуле, должен быть прописан через точку:\n",
    "\n",
    "```python\n",
    "x = numpy.linspace(0, 1, 100)\n",
    "```\n",
    "\n",
    "Для модулей внутри конкретного проекта можно задать «псевдоним» (alias):\n",
    "\n",
    "``` python\n",
    "import numpy as np\n",
    "x = np.linspace(0, 1, 100)\n",
    "```\n",
    "\\\n",
    "**Подмодули.**\\\n",
    "Модули могут иметь внутри себя древовидную структуру подмодулей, которые можно вызывать отдельно:\n",
    "```python\n",
    "import matplotlib.pyplot as plt\n",
    "```\n",
    "Или при помощи специального синтаксиса `from ... import ...`:\n",
    "```python\n",
    "from matplotlib import pyplot as plt\n",
    "```\n",
    "\n",
    "\\\n",
    "**Импорт конкретных функций.**\\\n",
    "Иногда в работе удобно, вместо импорта всего модуля, сделать импорт только конкретных функций.\\\n",
    "Это так же делается с помощью `from ... import ...`:\n",
    "\n",
    "```python\n",
    "from numpy import linspace\n",
    "```\n",
    "\n",
    "Вызов функции (или подмодуля), в этом случае, не требует приписки модуля через точку:\n",
    "```python\n",
    "x = linspace(0, 1, 100)\n",
    "```\n",
    "\n",
    "С помощью спецсимвола `*` можно импортировать в проект все существующие функции и классы:\n",
    "``` python\n",
    "from numpy import *\n",
    "```\n",
    "Я призываю так **не делать НИКОГДА**, потому что:\n",
    "- есть риск уничтожить пространство имен, смешивая названия из разных модулей;\n",
    "- в больших проектах трудно никогда понять, откуда взялась та или иная функция, если у нее нет префикса типа np.\n",
    "\n",
    "\\\n",
    "**Стандартный вид импорта**, который повсеместно встречается в туториалах, документации и чужом коде:"
   ]
  },
  {
   "cell_type": "code",
   "execution_count": 22,
   "metadata": {},
   "outputs": [],
   "source": [
    "import numpy as np\n",
    "import matplotlib.pyplot as plt\n",
    "from astropy.io.fits import getdata"
   ]
  },
  {
   "cell_type": "markdown",
   "metadata": {},
   "source": [
    "#### **Часть 1. Массивы в numpy.**"
   ]
  },
  {
   "cell_type": "markdown",
   "metadata": {},
   "source": [
    "Основной аспект работы в `numpy`, который мы затронем, заключается в использовании **n-мерных массивов**.\\\n",
    "Массивы в `numpy` &mdash; это класс, похожий на список (list), но имеющий ряд важных особенностей."
   ]
  },
  {
   "cell_type": "markdown",
   "metadata": {},
   "source": [
    "##### **Инициализация.**\n",
    "Для начала научимся создавать самый простой 1-мерный массив."
   ]
  },
  {
   "cell_type": "code",
   "execution_count": 23,
   "metadata": {},
   "outputs": [],
   "source": [
    "# Стандартный вид импорта\n",
    "import numpy as np"
   ]
  },
  {
   "cell_type": "code",
   "execution_count": 24,
   "metadata": {},
   "outputs": [
    {
     "name": "stdout",
     "output_type": "stream",
     "text": [
      "[1 2 3 4] <class 'numpy.ndarray'>\n",
      "[1. 2. 3.] <class 'numpy.ndarray'>\n"
     ]
    }
   ],
   "source": [
    "# ИНИЦИАЛИЗАЦИЯ МАССИВА ИЗ КЛАССОВ ЧИСТОГО PYTHON\n",
    "my_list = [1, 2, 3, 4]\n",
    "array = np.array(my_list)\n",
    "print(array, type(array))\n",
    "\n",
    "my_tuple = (1., 2., 3.)\n",
    "array = np.array(my_tuple)\n",
    "print(array, type(array))"
   ]
  },
  {
   "cell_type": "code",
   "execution_count": 25,
   "metadata": {},
   "outputs": [
    {
     "name": "stdout",
     "output_type": "stream",
     "text": [
      "10 нулей: [0. 0. 0. 0. 0. 0. 0. 0. 0. 0.]\n",
      "5 единиц: [1. 1. 1. 1. 1.]\n",
      "Числа от 1 до 15 с шагом в 3: [ 1  4  7 10 13]\n",
      "11 чисел от 0 до 1 с равным интервалом: [0.  0.1 0.2 0.3 0.4 0.5 0.6 0.7 0.8 0.9 1. ]\n"
     ]
    }
   ],
   "source": [
    "# ИНИЦИАЛИЗАЦИЯ МАССИВА ПО ЗАДАННЫМ УСЛОВИЯМ\n",
    "print('10 нулей:', np.zeros(10))\n",
    "print('5 единиц:', np.ones(5))\n",
    "print('Числа от 1 до 15 с шагом в 3:', np.arange(1, 15, 3))\n",
    "print('11 чисел от 0 до 1 с равным интервалом:', np.linspace(0, 1, 11))"
   ]
  },
  {
   "cell_type": "markdown",
   "metadata": {},
   "source": [
    "Было бы преступлением ограничиться рассмотрением 1-мерных массивов для этого класса, поэтому сразу разберемся, как создавать массивы, например, 2-мерные и 3-мерные:\n"
   ]
  },
  {
   "cell_type": "code",
   "execution_count": 26,
   "metadata": {},
   "outputs": [
    {
     "name": "stdout",
     "output_type": "stream",
     "text": [
      "2-мерная матрица размера 3x3:\n",
      " [[[1 2 3]\n",
      "  [4 5 6]\n",
      "  [7 8 9]]]\n",
      "Размерность этого массива: (3, 3)\n",
      "3-мерный массив из единиц размера 3x4x5:\n",
      " [[[1. 1. 1. 1. 1.]\n",
      "  [1. 1. 1. 1. 1.]\n",
      "  [1. 1. 1. 1. 1.]\n",
      "  [1. 1. 1. 1. 1.]]\n",
      "\n",
      " [[1. 1. 1. 1. 1.]\n",
      "  [1. 1. 1. 1. 1.]\n",
      "  [1. 1. 1. 1. 1.]\n",
      "  [1. 1. 1. 1. 1.]]\n",
      "\n",
      " [[1. 1. 1. 1. 1.]\n",
      "  [1. 1. 1. 1. 1.]\n",
      "  [1. 1. 1. 1. 1.]\n",
      "  [1. 1. 1. 1. 1.]]]\n"
     ]
    }
   ],
   "source": [
    "my_list = [\n",
    "    [1, 2, 3],\n",
    "    [4, 5, 6],\n",
    "    [7, 8, 9]\n",
    "]\n",
    "print('2-мерная матрица размера 3x3:\\n', np.array([my_list]))\n",
    "print('Размерность этого массива:', np.array(my_list).shape)\n",
    "\n",
    "print('3-мерный массив из единиц размера 3x4x5:\\n', np.ones([3, 4, 5]))"
   ]
  },
  {
   "cell_type": "markdown",
   "metadata": {},
   "source": [
    "##### **Отличия от списков.**\n",
    "У массивов numpy я выделяю 3 основных отличия, которые и делают использование массивов удобными важным для работы:\n",
    "1. Индексация.\n",
    "2. Интерпретация операций.\n",
    "3. Работа с условиями.\n",
    "\n",
    "Разберем каждый аспект отдельно."
   ]
  },
  {
   "cell_type": "markdown",
   "metadata": {},
   "source": [
    "##### **1. Индексация.**"
   ]
  },
  {
   "cell_type": "markdown",
   "metadata": {},
   "source": [
    "При работе с массивами, особенно большой размерности, часто необходимо обращаться к конкретныму подмножеству элементов массива, которые задаются специфическим образом.\\\n",
    "`numpy` значительно упрощает этот процесс:"
   ]
  },
  {
   "cell_type": "code",
   "execution_count": 27,
   "metadata": {},
   "outputs": [
    {
     "name": "stdout",
     "output_type": "stream",
     "text": [
      "0 строка, 0 столбец: 1\n",
      "0 строка полностью: [1 2 3]\n",
      "0 строка другим спосособом: [1 2 3]\n",
      "0 столбец полностью: [1 4 7]\n",
      "Четные строки: [[1 2 3]\n",
      " [7 8 9]]\n",
      "Четные строки, нечетные столбцы: [[2]\n",
      " [8]]\n"
     ]
    }
   ],
   "source": [
    "array = np.array([\n",
    "    [1, 2, 3],\n",
    "    [4, 5, 6],\n",
    "    [7, 8, 9]\n",
    "])\n",
    "\n",
    "print('0 строка, 0 столбец:', array[0, 0])\n",
    "print('0 строка полностью:', array[0])\n",
    "print('0 строка другим спосособом:', array[0, :])\n",
    "print('0 столбец полностью:', array[:, 0])\n",
    "\n",
    "# Похоже на работу с индексами в 1-мерных списках, но для n-мерного случая\n",
    "print('Четные строки:', array[::2, :])\n",
    "print('Четные строки, нечетные столбцы:', array[::2, 1::2])"
   ]
  },
  {
   "cell_type": "markdown",
   "metadata": {},
   "source": [
    "##### **2. Интерпретация операций.**"
   ]
  },
  {
   "cell_type": "markdown",
   "metadata": {},
   "source": [
    "Ключевая особенность `numpy`-массивов в том, что операции сложения, умножения, деления и всего остального, по возможности, выполняются **по-элементно**.\n",
    "\n",
    "**Минутка на подумать**.\\\n",
    "*Подумайте, как бы все это было нужно написать на обычных списках.*"
   ]
  },
  {
   "cell_type": "code",
   "execution_count": 28,
   "metadata": {},
   "outputs": [
    {
     "name": "stdout",
     "output_type": "stream",
     "text": [
      "Удвоенный массив:\n",
      " [[ 2  4  6]\n",
      " [ 8 10 12]\n",
      " [14 16 18]]\n",
      "Массив в квадрате:\n",
      " [[ 1  4  9]\n",
      " [16 25 36]\n",
      " [49 64 81]]\n",
      "Массив в квадрате иначе:\n",
      " [[ 1  4  9]\n",
      " [16 25 36]\n",
      " [49 64 81]]\n",
      "Условие на >5:\n",
      " [[False False False]\n",
      " [False False  True]\n",
      " [ True  True  True]]\n",
      "Сумма массивов:\n",
      " [[5 4]\n",
      " [7 5]\n",
      " [9 6]]\n",
      "Частное массивов:\n",
      " [[0.25 0.  ]\n",
      " [0.4  0.  ]\n",
      " [0.5  0.  ]]\n"
     ]
    }
   ],
   "source": [
    "print('Удвоенный массив:\\n', 2 * array)\n",
    "print('Массив в квадрате:\\n', array ** 2)\n",
    "print('Массив в квадрате иначе:\\n', array * array)\n",
    "print('Условие на >5:\\n', array > 5)\n",
    "\n",
    "array1 = np.array([[1, 0],\n",
    "                   [2, 0],\n",
    "                   [3, 0]])\n",
    "array2 = np.array([[4, 4],\n",
    "                   [5, 5],\n",
    "                   [6, 6]])\n",
    "\n",
    "print('Сумма массивов:\\n', array1 + array2)\n",
    "print('Частное массивов:\\n', array1 / array2)\n"
   ]
  },
  {
   "cell_type": "markdown",
   "metadata": {},
   "source": [
    "Помимо таких поэлементных операций, `numpy` умеет интерпретировать массивы как векторы и матрицы прямиком из линейной алгебры:"
   ]
  },
  {
   "cell_type": "code",
   "execution_count": 29,
   "metadata": {},
   "outputs": [
    {
     "name": "stdout",
     "output_type": "stream",
     "text": [
      "Вектор-строка (1 строка с 3 элементами):\n",
      " (1, 3)\n",
      "Вектор-столбец (3 строки по 1 элементу, т.е. один столбик):\n",
      " (3, 1)\n",
      "Поэлементное перемножение:\n",
      " [[1 2 3]\n",
      " [2 4 6]\n",
      " [3 6 9]]\n",
      "Матричное перемножение (1, 3) x (3, 1) = (1, 1):\n",
      " [[14]]\n",
      "Матричное перемножение (3, 1) x (1, 3) = (3, 3):\n",
      " [[1 2 3]\n",
      " [2 4 6]\n",
      " [3 6 9]]\n"
     ]
    }
   ],
   "source": [
    "vector1 = np.array([[1, 2, 3]])\n",
    "vector2 = np.array([[1], [2], [3]])\n",
    "print('Вектор-строка (1 строка с 3 элементами):\\n', vector1.shape)\n",
    "print('Вектор-столбец (3 строки по 1 элементу, т.е. один столбик):\\n', vector2.shape)\n",
    "\n",
    "# Эта операция автоматически производит расширение массивов для поэлеметного умножения\n",
    "print('Поэлементное перемножение:\\n', vector1 * vector2)\n",
    "\n",
    "\n",
    "print('Матричное перемножение (1, 3) x (3, 1) = (1, 1):\\n', vector1 @ vector2)\n",
    "print('Матричное перемножение (3, 1) x (1, 3) = (3, 3):\\n', vector2 @ vector1)"
   ]
  },
  {
   "cell_type": "markdown",
   "metadata": {},
   "source": [
    "Наконец, в модуле `numpy` есть **МНОГО** функций, приспособленных для выполнения самых разных операций:"
   ]
  },
  {
   "cell_type": "code",
   "execution_count": 30,
   "metadata": {},
   "outputs": [
    {
     "name": "stdout",
     "output_type": "stream",
     "text": [
      "[0.   0.25 0.5  0.75 1.  ]\n",
      "sin(x):\n",
      " [0.         0.24740396 0.47942554 0.68163876 0.84147098]\n",
      "min(x):\n",
      " 0.0\n",
      "max(x):\n",
      " 1.0\n",
      "Случайные числа:\n",
      " [[0.92317975 0.5780989  0.84507433]\n",
      " [0.7714195  0.05820536 0.74065724]\n",
      " [0.26165875 0.51900069 0.81188601]]\n"
     ]
    }
   ],
   "source": [
    "x = np.linspace(0, 1, 5)\n",
    "print(x)\n",
    "\n",
    "print('sin(x):\\n', np.sin(x))\n",
    "\n",
    "print('min(x):\\n', np.min(x))\n",
    "print('max(x):\\n', x.max()) # x - это объект класса np.ndarray, у которого есть встренные методы.\n",
    "\n",
    "random_nums = np.random.random((3,3))\n",
    "print('Случайные числа:\\n', random_nums)"
   ]
  },
  {
   "cell_type": "markdown",
   "metadata": {},
   "source": [
    "Мы не будем разбирать все существующие функции для массивов. Вместо этого предлагаю искать среди них ту, которая вам понадобится, по необходимости.\n",
    "Для этого есть [очень подробная и хорошо структурированная документация](https://numpy.org/doc/stable/reference/routines.html)."
   ]
  },
  {
   "cell_type": "markdown",
   "metadata": {},
   "source": [
    "##### **3. Работа с условиями.**"
   ]
  },
  {
   "cell_type": "markdown",
   "metadata": {},
   "source": [
    "Еще одним могучим преимуществом `numpy` над обычными списками является эффективная и простая работа с условиями:\\\n",
    "Вместо индексов массиву можно передать другой массив того же размера типа bool, чтобы получить доступ только к конкретным элементам:"
   ]
  },
  {
   "cell_type": "code",
   "execution_count": 31,
   "metadata": {},
   "outputs": [
    {
     "name": "stdout",
     "output_type": "stream",
     "text": [
      "[[1 2 3]\n",
      " [4 5 6]\n",
      " [7 8 9]]\n",
      "Условие «> 5»:\n",
      " [[False False False]\n",
      " [False False  True]\n",
      " [ True  True  True]]\n",
      "Элементы, удовлетворяющие условию:\n",
      " [6 7 8 9]\n",
      "Массив после модификации:\n",
      " [[1 2 3]\n",
      " [4 5 0]\n",
      " [0 0 0]]\n"
     ]
    }
   ],
   "source": [
    "array = np.array([\n",
    "    [1, 2, 3],\n",
    "    [4, 5, 6],\n",
    "    [7, 8, 9]\n",
    "])\n",
    "print(array)\n",
    "\n",
    "print('Условие «> 5»:\\n', array > 5)\n",
    "\n",
    "print('Элементы, удовлетворяющие условию:\\n', array[array>5])\n",
    "\n",
    "array[array>5] = 0 # Эти элементы можно модифицировать, и они изменяться в изначальном массиве.\n",
    "\n",
    "print('Массив после модификации:\\n', array)"
   ]
  },
  {
   "cell_type": "markdown",
   "metadata": {},
   "source": [
    "С большой силой приходит большая ответственность за то, чтобы не сломать свой код.\\\n",
    "При работе с массивами и изменениями имейте в виду, что даже в функции изменится **изначальный массив**,\\\n",
    "а значит, вы рискуете изменить данные, которые не должны.\n",
    "\n",
    "Чтобы этого избежать, рекомендую внутри своих функций работать с копией массива:\n",
    "\n",
    "```python\n",
    "my_array = array.copy()\n",
    "```"
   ]
  },
  {
   "cell_type": "markdown",
   "metadata": {},
   "source": [
    "Отметим еще, что bool-массив совершенно не обязательно генерировать из того же массива, на который мы его наложим.\\\n",
    "Достаточно, чтобы они были одного размера:"
   ]
  },
  {
   "cell_type": "code",
   "execution_count": 32,
   "metadata": {},
   "outputs": [
    {
     "name": "stdout",
     "output_type": "stream",
     "text": [
      "x:\n",
      " [0.         0.6981317  1.3962634  2.0943951  2.7925268  3.4906585\n",
      " 4.1887902  4.88692191 5.58505361 6.28318531]\n",
      "y:\n",
      " [ 0.00000000e+00  6.42787610e-01  9.84807753e-01  8.66025404e-01\n",
      "  3.42020143e-01 -3.42020143e-01 -8.66025404e-01 -9.84807753e-01\n",
      " -6.42787610e-01 -2.44929360e-16]\n",
      "x[y>0]:\n",
      " [0.6981317 1.3962634 2.0943951 2.7925268]\n",
      "y[y>0]:\n",
      " [0.64278761 0.98480775 0.8660254  0.34202014]\n"
     ]
    }
   ],
   "source": [
    "x = np.linspace(0, 2*np.pi, 10) # np.pi - это просто константа пи\n",
    "y = np.sin(x)\n",
    "print('x:\\n', x)\n",
    "print('y:\\n', y)\n",
    "\n",
    "print('x[y>0]:\\n',x[y>0])\n",
    "print('y[y>0]:\\n',y[y>0])"
   ]
  },
  {
   "cell_type": "markdown",
   "metadata": {},
   "source": [
    "На этом заканчиваем короткое введение в работу с массивами `numpy` и переходим ко второй части занятия."
   ]
  },
  {
   "cell_type": "markdown",
   "metadata": {},
   "source": [
    "#### **Часть 2. Графики в matplotlib.**"
   ]
  },
  {
   "cell_type": "markdown",
   "metadata": {},
   "source": [
    "`Matplotlib` &mdash; это модуль для построения графиков, в котором можно гибко настраивать под свои нужды самые разные аспекты рисунка.\\\n",
    "В рамках этого занятия мы постараемся разборать несколько основных подходов к построению графиков, основные типы представления информации\\\n",
    "и некоторые настраиваемые параметры, которые очень желательно знать. "
   ]
  },
  {
   "cell_type": "markdown",
   "metadata": {},
   "source": [
    "##### **Инициализация.**\n",
    "\n",
    "В модуле `matplotlib` содержится несколько подмодулей различного назначения,\\\n",
    "но для решения 90% задач хватает одного конкретного:\\\n",
    "`matplotlib.pyplot`"
   ]
  },
  {
   "cell_type": "code",
   "execution_count": 33,
   "metadata": {},
   "outputs": [],
   "source": [
    "import matplotlib.pyplot as plt"
   ]
  },
  {
   "cell_type": "markdown",
   "metadata": {},
   "source": [
    "##### **Фундамент построения графиков.**\n",
    "\n",
    "Наиболее простым примером построения графика является обычный `plot`.\\\n",
    "Рассмотрим его на простейшем примере графика синуса."
   ]
  },
  {
   "cell_type": "code",
   "execution_count": 34,
   "metadata": {},
   "outputs": [],
   "source": [
    "x = np.linspace(0, 10, 100)\n",
    "y = np.sin(x)"
   ]
  },
  {
   "cell_type": "markdown",
   "metadata": {},
   "source": [
    "Структура, которую мы будем держать в голове, при задании графиков:"
   ]
  },
  {
   "cell_type": "code",
   "execution_count": 35,
   "metadata": {},
   "outputs": [
    {
     "data": {
      "image/png": "[encoded data removed]",
      "text/plain": [
       "<Figure size 432x288 with 1 Axes>"
      ]
     },
     "metadata": {
      "needs_background": "light"
     },
     "output_type": "display_data"
    }
   ],
   "source": [
    "plt.close()                 # Закрыть все прошлые окна (если они есть)\n",
    "plt.figure()                # Создать фигуру: полотно, на которым мы будем помещать оси\n",
    "plt.subplot()               # Создать оси, в которых мы будем рисовать\n",
    "plt.plot(x, y)              # Нанести данные на выбранные оси\n",
    "plt.show()                  # Показать полученное полотно"
   ]
  },
  {
   "cell_type": "markdown",
   "metadata": {},
   "source": [
    "Некоторые части этого процесса можно пропускать или совмещать, но внутри `matplotlib` процедура\\\n",
    "построения графиков работает примерно таким образом.\n",
    "\n",
    "Наиболее минималистичный пример, который можно привести, включает явно всего три из этих шагов:\n",
    "\n",
    "*Строго говоря, в отдельных случаях первый и последний шаги тоже можно опустить.*\\\n",
    "*Я, однако, всегда включаю их в свой код, потому что часто работаю именно*\\\n",
    "*с интерактивными окнами в ноутбуках, где это принципиально важно.*"
   ]
  },
  {
   "cell_type": "code",
   "execution_count": 36,
   "metadata": {},
   "outputs": [
    {
     "data": {
      "image/png": "[encoded data removed]",
      "text/plain": [
       "<Figure size 432x288 with 1 Axes>"
      ]
     },
     "metadata": {
      "needs_background": "light"
     },
     "output_type": "display_data"
    }
   ],
   "source": [
    "plt.close()\n",
    "plt.plot(x, y)      # При создании plot фигура и оси были заданы автоматически\n",
    "plt.show()"
   ]
  },
  {
   "cell_type": "markdown",
   "metadata": {},
   "source": [
    "**Какие параметры можно крутить здесь.**"
   ]
  },
  {
   "cell_type": "code",
   "execution_count": 37,
   "metadata": {},
   "outputs": [
    {
     "data": {
      "image/png": "[encoded data removed]",
      "text/plain": [
       "<Figure size 576x288 with 2 Axes>"
      ]
     },
     "metadata": {
      "needs_background": "light"
     },
     "output_type": "display_data"
    }
   ],
   "source": [
    "plt.close()\n",
    "plt.figure(figsize=(8, 4))  # Тут мы задали размер нашей фигуры\n",
    "\n",
    "plt.subplot(1, 2, 1)        # Тут мы задали на фигуре две пары осей, 1 ряд, 2 столбца, выбрали 1 оси\n",
    "plt.plot(x, y)              # Последний аргумент задает, на какой оси мы сейчас будем работать.\n",
    "\n",
    "plt.subplot(1, 2, 2)        # Переключились на вторые оси, обозначенные индексом 2.\n",
    "plt.plot(y, x)\n",
    "\n",
    "plt.show()\n"
   ]
  },
  {
   "cell_type": "markdown",
   "metadata": {},
   "source": [
    "**Более продвинутый способ задания.**\n",
    "\n",
    "**Команда `plt.subplots()`:**\\\n",
    "Одновременное задается и фигура, и оси.\\\n",
    "В данном случае созданы 1 строка, 2 столбца.\n",
    "\n",
    "`figsize` отвечает размеру фигуры.\\\n",
    "`width_ratios` и `height_ratios` позволяют контролировать отношения размеров.\n",
    "\n",
    "Оси задаются явными объектами `ax[0]` и `ax[1]`.\\\n",
    "Здесь мы выбираем, в какие оси нарисовать данные, выбором объекта, метод которого вызываем."
   ]
  },
  {
   "cell_type": "code",
   "execution_count": 38,
   "metadata": {},
   "outputs": [],
   "source": [
    "plt.close()\n",
    "# fig, ax = plt.subplots(1, 2, figsize=(8, 4), width_ratios=[1, 4])\n",
    "# ax[0].plot(y, x)\n",
    "# ax[1].plot(x, y)\n",
    "plt.show()"
   ]
  },
  {
   "cell_type": "markdown",
   "metadata": {},
   "source": [
    "Есть и другие подходы, более низкоуровневые, но мы сконцентрируемся на последнем из рассмотренных,\\\n",
    "так как он дает достаточно гибкости для большинства задач, не перегружая мозги ужасом\\\n",
    "низкоуровневого менеджмента."
   ]
  },
  {
   "cell_type": "markdown",
   "metadata": {},
   "source": [
    "##### **Составные части графика.**\n",
    "\n",
    "Немного освоились с фундаментом, теперь попробуем понять, что можно крутить\\\n",
    "на каждой отдельно взятой паре осей.\n",
    "\n",
    "Ниже приведен пример страшного издевательства на графиком, в котором показано все,\\\n",
    "что хорошо знать без необходимости обращаться к гуглу."
   ]
  },
  {
   "cell_type": "code",
   "execution_count": 39,
   "metadata": {},
   "outputs": [
    {
     "data": {
      "image/png": "[encoded data removed]",
      "text/plain": [
       "<Figure size 432x288 with 1 Axes>"
      ]
     },
     "metadata": {
      "needs_background": "light"
     },
     "output_type": "display_data"
    }
   ],
   "source": [
    "plt.close()\n",
    "fig, ax = plt.subplots()                   # Задали оси по умолчанию. 1 строка, 1 столбец без других параметров\n",
    "\n",
    "ax.set_title('My first title')             # Задаем название всей пары осей\n",
    "\n",
    "ax.plot(x, y, label='My first plot')       # Рисуем график, добавим параметр label, название\n",
    "ax.plot(y, x, label='My second plot')       \n",
    "ax.legend()                                # Добавим на оси легенду\n",
    "\n",
    "ax.set_xlabel(r'$My~\\alpha \\omega \\epsilon \\sigma \\theta \\mu \\epsilon~X-axis$')\n",
    "                                           # В подписях можно использовать ТеХ нотацию\n",
    "ax.set_ylabel('My Y-axis')                 # Добавим подписи к оси x\n",
    "\n",
    "ax.set_xlim(0.1, 10)                         # Добавим ограничение на область отрисовка по оси x\n",
    "ax.set_ylim(-2, 4)                         # Добавим ограничение на область отрисовка по оси y\n",
    "\n",
    "ax.set_xscale('log')                       # Изменим масштаб оси x на логарифмический. (линейный - 'linear')\n",
    "\n",
    "ax.set_yticks([0.2, 0.4, 0.6])             # Изменим большие пометки на оси y \n",
    "ax.set_yticks([0.1, 0.3, 0.5], minor=True) # Изменим малые   пометки на оси y\n",
    "ax.set_yticklabels(['hi', 'wow', 'lol'])   # Изменим подписи к пометкам на оси y\n",
    "\n",
    "plt.show()"
   ]
  },
  {
   "cell_type": "markdown",
   "metadata": {},
   "source": [
    "##### **Основные виды графиков.**\n",
    "\n",
    "В рамках этого занятия мы разберем 3 вида графиков:\n",
    "1. `plot`\n",
    "2. `scatter`\n",
    "3. `errorbar`\n",
    "\n",
    "Что мы будем разбирать, но отдельно: `hist`, `imshow`\\\n",
    "Что мы не будем разбирать вообще: [все остальное](https://matplotlib.org/stable/plot_types/index.html)."
   ]
  },
  {
   "cell_type": "markdown",
   "metadata": {},
   "source": [
    "**plot**\n",
    "\n",
    "С этим видом графика мы уже познакомились в примерах выше.\\\n",
    "Он служит в основном для построения графиков, соединенных линиями.\\\n",
    "Коротко пройдемся по наиболее часто используемым параметрам."
   ]
  },
  {
   "cell_type": "code",
   "execution_count": 40,
   "metadata": {},
   "outputs": [
    {
     "data": {
      "image/png": "[encoded data removed]",
      "text/plain": [
       "<Figure size 720x576 with 4 Axes>"
      ]
     },
     "metadata": {
      "needs_background": "light"
     },
     "output_type": "display_data"
    }
   ],
   "source": [
    "plt.close()\n",
    "fig, ax = plt.subplots(2, 2, figsize=(10, 8))\n",
    "ax[0,0].plot(x, y, '.-b')                            # 3 позиция -- формат. Маркер + стиль линии + цвет \n",
    "ax[0,1].plot(x, y, linestyle='-.', c='tab:red')      # Все эти аспекты формата можно задать отдельно\n",
    "ax[1,0].plot(x, y, marker='^')                       # marker + linestyle + с\n",
    "ax[1,1].plot(x, y, '.-', linewidth=1, markersize=10) # У маркера и линии можно задать размеры \n",
    "plt.show()"
   ]
  },
  {
   "cell_type": "markdown",
   "metadata": {},
   "source": [
    "**scatter**\\\n",
    "Это вид графика, при котором ключевую роль играет положение точек.\\\n",
    "Рассмотрим основные параметры."
   ]
  },
  {
   "cell_type": "code",
   "execution_count": 41,
   "metadata": {},
   "outputs": [
    {
     "data": {
      "image/png": "[encoded data removed]",
      "text/plain": [
       "<Figure size 720x576 with 4 Axes>"
      ]
     },
     "metadata": {
      "needs_background": "light"
     },
     "output_type": "display_data"
    }
   ],
   "source": [
    "plt.close()\n",
    "fig, ax = plt.subplots(2, 2, figsize=(10, 8))\n",
    "ax[0,0].scatter(x, y, marker='*')           # Можно задавать различные маркеры, как в plot\n",
    "ax[0,1].scatter(x, y, s=x**2, c='tab:red')  # Можно задавать каждой точке свой размер\n",
    "ax[1,0].scatter(x, y, c=y, marker='^')      # Можно окрашивать каждую точку в свой цвет\n",
    "ax[1,1].plot(x, y, linewidth=1)             # scatter может работать как plot, но тогда про особые фишки можно забыть\n",
    "plt.show()"
   ]
  },
  {
   "cell_type": "markdown",
   "metadata": {},
   "source": [
    "**errorbar**\\\n",
    "Особый вид графиков, необходимый для отрисовки данных с ошибками.\n",
    "\n",
    "Структура функции такова:\n",
    "```python\n",
    "plt.errorbar(x, y, err_y, err_x, fmt=plot_format, ...)\n",
    "```"
   ]
  },
  {
   "cell_type": "code",
   "execution_count": 42,
   "metadata": {},
   "outputs": [
    {
     "data": {
      "image/png": "[encoded data removed]",
      "text/plain": [
       "<Figure size 432x288 with 1 Axes>"
      ]
     },
     "metadata": {
      "needs_background": "light"
     },
     "output_type": "display_data"
    }
   ],
   "source": [
    "plt.close()\n",
    "fig, ax = plt.subplots()\n",
    "plt.errorbar(x, y, 0.1*np.abs(y), 0.1, fmt='.', color='tab:red')\n",
    "plt.show()"
   ]
  },
  {
   "cell_type": "markdown",
   "metadata": {},
   "source": [
    "**На этом мы заканчиваем скучное введение и приступаем к нескучной практике.**"
   ]
  },
  {
   "cell_type": "markdown",
   "metadata": {},
   "source": [
    "#### **Часть 3. Практика, практика, практика.**\n",
    "\n",
    "На этом занятии вам предлагается выполнить 3 независимых задания.\\\n",
    "Ключевое правило этого практикума:\\\n",
    "Если у вас что-то не получается, или вы не понимаете, что делать, **поднимите руку и спросите**.\\\n",
    "Если гордость не позволяет вам спросить, **не стесняйтесь гуглить**."
   ]
  },
  {
   "cell_type": "markdown",
   "metadata": {},
   "source": [
    "##### **Задание 1. Нарисуем затухающий сигнал и его огибающую.**"
   ]
  },
  {
   "cell_type": "markdown",
   "metadata": {},
   "source": [
    "В этом задании вам необходимо построить задухающий синусоидальный сигнал, затухающий по обратной экспоненте.\\\n",
    "Частоту сигнала, темпы затухания и все остальное вы можете подбирать самостоятельно.\n",
    "\n",
    "Ключевая задача этого задания в том, чтобы повторить главные аспекты графика ниже:\n",
    "\n",
    "![example_img](./2_supplementary/task1/example.png)"
   ]
  },
  {
   "cell_type": "code",
   "execution_count": 43,
   "metadata": {},
   "outputs": [],
   "source": [
    "import numpy as np\n",
    "import matplotlib.pyplot as plt"
   ]
  },
  {
   "cell_type": "code",
   "execution_count": 44,
   "metadata": {},
   "outputs": [],
   "source": [
    "# МЕСТО ДЛЯ ВАШЕГО КОДА"
   ]
  },
  {
   "cell_type": "markdown",
   "metadata": {},
   "source": [
    "##### **Задание 2. Построим линейную зависимость в шумных данных.**"
   ]
  },
  {
   "cell_type": "markdown",
   "metadata": {},
   "source": [
    "В этом задании вам необходимо прочитать данные из файла, найти коэффициенты линейной регресии и построить график по примеру ниже.\n",
    "\n",
    "Для получения данных воспользуйтесь функцией `read_data` ниже.\\\n",
    "Данные внутри файла представляют собой 3 1-мерных массива, содержащих координаты по осям x, y и ошибку по оси y.\n",
    "\n",
    "Для получения формулы вычисления параметров линейной модели загляните на [Википедию](https://en.wikipedia.org/wiki/Simple_linear_regression).\n",
    "\n",
    "Верхний график на картинке должен показывать сами точки и модельную прямую.\\\n",
    "Нижний график должен показывать разницу между данными и моделью, нормированную на величину ошибки в данных.\n",
    "\n",
    "![liner reg example](./2_supplementary/task2/example.png)"
   ]
  },
  {
   "cell_type": "code",
   "execution_count": 45,
   "metadata": {},
   "outputs": [],
   "source": [
    "import numpy as np\n",
    "import matplotlib.pyplot as plt\n",
    "\n",
    "def read_data(file_path):\n",
    "    x, y, y_err = np.fromfile(file_path).reshape(3, -1)\n",
    "    return x, y, y_err"
   ]
  },
  {
   "cell_type": "code",
   "execution_count": 46,
   "metadata": {},
   "outputs": [],
   "source": [
    "x, y, y_err = read_data('./2_supplementary/task2/data.npy')"
   ]
  },
  {
   "cell_type": "code",
   "execution_count": 54,
   "metadata": {},
   "outputs": [
    {
     "data": {
      "text/plain": [
       "(26,)"
      ]
     },
     "execution_count": 54,
     "metadata": {},
     "output_type": "execute_result"
    }
   ],
   "source": [
    "x.shape"
   ]
  },
  {
   "cell_type": "code",
   "execution_count": 48,
   "metadata": {},
   "outputs": [],
   "source": [
    "# МЕСТО ДЛЯ ВАШЕГО КОДА"
   ]
  },
  {
   "cell_type": "markdown",
   "metadata": {},
   "source": [
    "##### **Задание 3. Нарисуем спектр пульсара Cen X-3** "
   ]
  },
  {
   "cell_type": "markdown",
   "metadata": {},
   "source": [
    "В этом задании вам необходимо из настоящих данных рентгеновской обсерватории NuSTAR достать спектр\\\n",
    "рентгеновского пульсара Cen X-3 (первого из открытых человечеством!).\n",
    "\n",
    "![pulsar pic](./2_supplementary/task3/image.png)\n",
    "\n",
    "Картинка и спектр успешно взяты из статьи [Томара Гунжана и др. (2021)](https://ui.adsabs.harvard.edu/abs/2021MNRAS.500.3454T/abstract)\n",
    "\n",
    "![spectra picture](./2_supplementary/task3/CenX3_spectrum.PNG)"
   ]
  },
  {
   "cell_type": "code",
   "execution_count": 49,
   "metadata": {},
   "outputs": [],
   "source": [
    "import numpy as np\n",
    "import matplotlib.pyplot as plt\n",
    "from astropy.io.fits import getdata"
   ]
  },
  {
   "cell_type": "markdown",
   "metadata": {},
   "source": [
    "Чтение данных производится при помощи функции `prepare_data`, в которой загружаются все необходимые файлы."
   ]
  },
  {
   "cell_type": "code",
   "execution_count": 50,
   "metadata": {},
   "outputs": [],
   "source": [
    "def prepare_data(folder):\n",
    "    data = getdata(f'{folder}/CenX3.fits')\n",
    "\n",
    "    x = np.fromfile(f'{folder}/spectrum_x.npy')\n",
    "    y = np.fromfile(f'{folder}/spectrum_y.npy')\n",
    "\n",
    "    return data, x, y"
   ]
  },
  {
   "cell_type": "code",
   "execution_count": 51,
   "metadata": {},
   "outputs": [],
   "source": [
    "data, x, y = prepare_data('./2_supplementary/task3/')"
   ]
  },
  {
   "cell_type": "markdown",
   "metadata": {},
   "source": [
    "`data` - данные с телескопа по пульсару Cen X-3. Что содержат\n",
    "- TIME - время регистрации фотона\n",
    "- PI - величина, линейно задающая энергию зарегистрированного фотона в keV по формуле\n",
    "```\n",
    "E = 1.6 + 0.04 * PI\n",
    "```\n",
    "Нерелевантные данные\n",
    "- GRADE - статус регистрации фотона\n",
    "- X - координата X зарегистрированного фотона в системе детектора телескопа\n",
    "- Y - координата Y зарегистрированного фотона в системе детектора телескопа\n",
    "\n",
    "Если вы умеете пользоваться `hist2d`, то можно построить изображение пульсара вроде той, что показана выше.\n",
    "\n",
    "`x, y` - данные спектра, с которыми мы хотим сравниться. Приведены в тех же единицах, что и на картинке выше.\n",
    "\n",
    "Выше в на спектре используются единицы нормализованных отсчетов на секунду на кэВ.\n",
    "\n",
    "**Что это значит?**\\\n",
    "Вся шкала энергии разбивается на отрезки.\\\n",
    "Считается число фотонов в каждом отрезке.\\\n",
    "Это числе делится на время экспозиции наблюдения и на ширину отрезка по энергии.\n",
    "\n",
    "Результат этой операции наносится на график."
   ]
  },
  {
   "cell_type": "markdown",
   "metadata": {},
   "source": [
    "Ваша задача заключается в том, чтобы построить график, похожий на результат, полученный в работе Томара Гунжана.\\\n",
    "Здесь **нет примера** эталонного графика, вы должны представить график **по своему вкусу**."
   ]
  },
  {
   "cell_type": "code",
   "execution_count": 52,
   "metadata": {},
   "outputs": [],
   "source": [
    "# МЕСТО ДЛЯ ВАШЕГО КОДА"
   ]
  }
 ],
 "metadata": {
  "kernelspec": {
   "display_name": "Python 3",
   "language": "python",
   "name": "python3"
  },
  "language_info": {
   "codemirror_mode": {
    "name": "ipython",
    "version": 3
   },
   "file_extension": ".py",
   "mimetype": "text/x-python",
   "name": "python",
   "nbconvert_exporter": "python",
   "pygments_lexer": "ipython3",
   "version": "3.9.7"
  },
  "orig_nbformat": 4
 },
 "nbformat": 4,
 "nbformat_minor": 2
}
