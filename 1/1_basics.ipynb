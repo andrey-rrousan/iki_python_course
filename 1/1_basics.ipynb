{
 "cells": [
  {
   "cell_type": "markdown",
   "metadata": {},
   "source": [
    "## **Введение в Python.**\n",
    "### **Занятие 1. Базовые аспекты языка.**"
   ]
  },
  {
   "cell_type": "markdown",
   "metadata": {},
   "source": [
    "#### **Часть 1. Введение в происходящее на экране.**"
   ]
  },
  {
   "cell_type": "markdown",
   "metadata": {},
   "source": [
    "\n",
    "В рамках этого курса мы будем обсуждать **высокоуровневый** язык программирования **Python**. Для работы мы будем использовать **Jupyter notebook**, среду, в которой Python-код оформлен в виде исполняемых ячеек, а комментарии прописываются отдельными ячейками в формате **Markdown**. "
   ]
  },
  {
   "cell_type": "markdown",
   "metadata": {},
   "source": [
    "**Как работает код?**\n",
    "\n",
    "Python &mdash; интерпретируемый язык, в нем запуск кода осуществляется построчно, а результаты исполнения предыдущих строчек сохраняются и могут быть использованы. "
   ]
  },
  {
   "cell_type": "code",
   "execution_count": 4,
   "metadata": {},
   "outputs": [
    {
     "name": "stdout",
     "output_type": "stream",
     "text": [
      "First goes this\n",
      "Hello world!\n",
      "Then goes this\n",
      "2\n"
     ]
    }
   ],
   "source": [
    "print('First goes this')\n",
    "print('Hello world!')\n",
    "\n",
    "a = 1\n",
    "print('Then goes this')\n",
    "print(a + 1)"
   ]
  },
  {
   "cell_type": "markdown",
   "metadata": {},
   "source": [
    "**Как работают ячейки в Jupyter-notebook?**\n",
    "\n",
    "Информация из незапущенных ячеек никуда не попадает до тех пор, пока ячейка не будет запущена хотя бы раз.\\\n",
    "Переменные и функции с одинаковыми названиями перезаписываются, даже будучи запущенными в разных ячейках.\\\n",
    "На порядок запуска кода влияет исключительно порядок запуска ячеек.\\\n",
    "Обычно этот порядок определяется сверху вниз, но при работе следует быть внимательным и следить за порядком запуска своих ячеек,\\\n",
    "так как их можно перезапускать в любом порядке.\n",
    "\n",
    "> *Задание. Разминочное.*\\\n",
    "Запустите 4 ячейки ниже сначала в порядке сверху вниз, а затем в таком порядке, чтобы получить ожидаемый ответ."
   ]
  },
  {
   "cell_type": "code",
   "execution_count": 1,
   "metadata": {},
   "outputs": [],
   "source": [
    "a = 10"
   ]
  },
  {
   "cell_type": "code",
   "execution_count": 9,
   "metadata": {},
   "outputs": [
    {
     "name": "stdout",
     "output_type": "stream",
     "text": [
      "14 = 14\n"
     ]
    }
   ],
   "source": [
    "print((a + b), '= 14')"
   ]
  },
  {
   "cell_type": "code",
   "execution_count": 3,
   "metadata": {},
   "outputs": [],
   "source": [
    "b = 2"
   ]
  },
  {
   "cell_type": "code",
   "execution_count": 8,
   "metadata": {},
   "outputs": [],
   "source": [
    "b = b + 1"
   ]
  },
  {
   "cell_type": "markdown",
   "metadata": {},
   "source": [
    "Только что вы стали свидетелями примера УЖАСНО написанного кода для Jupyter-ноутбука. Так не стоит делать вне процесса проверки каких-то быстрых гипотез."
   ]
  },
  {
   "cell_type": "markdown",
   "metadata": {},
   "source": [
    "#### **Часть 2. Типы данных и простейшие операторы.**"
   ]
  },
  {
   "cell_type": "markdown",
   "metadata": {},
   "source": [
    "Различным значениям и объектами в Питоне можно присваивать имена, то есть записывать их значения в переменные.\n",
    "\n",
    "Python &mdash; язык с динамической типизацией, поэтому при создании переменных здесь можно не задавать тип данных, которые будут помещены в эту переменную.\\\n",
    "\n",
    "Присвоение какой-то переменной определенных данных происходит с помощью знака ```=```."
   ]
  },
  {
   "cell_type": "markdown",
   "metadata": {},
   "source": [
    "##### **Числа.**"
   ]
  },
  {
   "cell_type": "code",
   "execution_count": 17,
   "metadata": {},
   "outputs": [
    {
     "name": "stdout",
     "output_type": "stream",
     "text": [
      "Тип переменной a: <class 'int'>\n",
      "Тип переменной b: <class 'float'>\n"
     ]
    }
   ],
   "source": [
    "a = 5\n",
    "b = 3.14\n",
    "\n",
    "print('Тип переменной a:', type(a)) # type() - функция, которая возвращает тип переменной\n",
    "print('Тип переменной b:', type(b))"
   ]
  },
  {
   "cell_type": "markdown",
   "metadata": {},
   "source": [
    "**Основные операторы при работе с числами:**"
   ]
  },
  {
   "cell_type": "code",
   "execution_count": 18,
   "metadata": {},
   "outputs": [
    {
     "name": "stdout",
     "output_type": "stream",
     "text": [
      "Сумма чисел: 8.14\n",
      "Разность чисел: 1.8599999999999999\n",
      "Произведение чисел: 15.700000000000001\n",
      "Частное чисел: 1.592356687898089\n",
      "Целочисленное деление, 5 // 3: 1\n",
      "Остаток от деления, 5 % 3: 2\n",
      "Возведение в степень, 5^2: 25\n"
     ]
    }
   ],
   "source": [
    "print('Сумма чисел:', a + b)         # комментарии в питоне начинаются с символа решетки\n",
    "print('Разность чисел:', a - b)      # операции с нецелыми числами иногда ошибаются на очень малое значение\n",
    "print('Произведение чисел:', a * b)  # это нормально, и связано с особенностями представления чисел в памяти компьютера\n",
    "print('Частное чисел:', a / b)\n",
    "print('Целочисленное деление, 5 // 3:', a//3)  \n",
    "print('Остаток от деления, 5 % 3:', a%3)\n",
    "print('Возведение в степень, 5^2:', a**2) # обратите внимание, не так как в других языках программирования"
   ]
  },
  {
   "cell_type": "markdown",
   "metadata": {},
   "source": [
    "##### **Строки.**"
   ]
  },
  {
   "cell_type": "code",
   "execution_count": 32,
   "metadata": {},
   "outputs": [
    {
     "name": "stdout",
     "output_type": "stream",
     "text": [
      "Тип переменной s: <class 'str'>\n"
     ]
    }
   ],
   "source": [
    "c = 'some text'               # Строчки выделяются двойными(\"\") или одинарными кавычками('')\n",
    "print('Тип переменной s:', type(c))"
   ]
  },
  {
   "cell_type": "markdown",
   "metadata": {},
   "source": [
    "**Некоторые операторы в работе со строками:**"
   ]
  },
  {
   "cell_type": "code",
   "execution_count": 33,
   "metadata": {},
   "outputs": [
    {
     "name": "stdout",
     "output_type": "stream",
     "text": [
      "Hello World\n",
      "HelloHelloHelloHelloHello\n"
     ]
    }
   ],
   "source": [
    "string1 = 'Hello'\n",
    "string2 = 'World'\n",
    "\n",
    "print(string1 + ' ' + string2) # Математических операторов для работы со строчками немного\n",
    "print(5 * string1)             # но даже они заметно облегчают жизнь."
   ]
  },
  {
   "cell_type": "markdown",
   "metadata": {},
   "source": [
    "Еще один важный аспект при работе со строками &mdash; **спецсимволы**. Список символом можно посмотреть, например, [тут](https://chercher.tech/python-programming/python-special-characters)."
   ]
  },
  {
   "cell_type": "code",
   "execution_count": 46,
   "metadata": {},
   "outputs": [
    {
     "name": "stdout",
     "output_type": "stream",
     "text": [
      "Example 1\n",
      "H\n",
      "i\n",
      "Example 2\n",
      "Hello\tWorld\n",
      "Hello\n",
      "World\n",
      "Example 3\n",
      "Hello\n",
      "Hello\n",
      "Hello\n",
      "Hello\n",
      "Hello\n",
      "\n"
     ]
    }
   ],
   "source": [
    "print('Example 1')\n",
    "print('H\\ni')\n",
    "\n",
    "print('Example 2')\n",
    "print(string1 + '\\t' + string2)\n",
    "print(string1 + '\\n' + string2)\n",
    "\n",
    "print('Example 3')\n",
    "print(5 * (string1 + '\\n'))"
   ]
  },
  {
   "cell_type": "markdown",
   "metadata": {},
   "source": [
    "> *Задание. Ностальгическое.*\\\n",
    "Воспроизведите с помощью как можно меньшего числа символов и операций\\\n",
    "припев песни A Decade in Blue (Da Ba Dee) - Eiffel 65\n",
    "\n",
    "I'm blue\\\n",
    "Da ba dee da ba di\\\n",
    "Da ba dee da ba di\\\n",
    "Da ba dee da ba di\\\n",
    "Da ba dee da ba di\\\n",
    "Da ba dee da ba di\\\n",
    "Da ba dee da ba di\\\n",
    "Da ba dee da ba di\\\n",
    "I'm blue\\\n",
    "Da ba dee da ba di\\\n",
    "Da ba dee da ba di\\\n",
    "Da ba dee da ba di\\\n",
    "Da ba dee da ba di\\\n",
    "Da ba dee da ba di\\\n",
    "Da ba dee da ba di\\\n",
    "Da ba dee da ba di"
   ]
  },
  {
   "cell_type": "code",
   "execution_count": 48,
   "metadata": {},
   "outputs": [],
   "source": [
    "# МЕСТО ДЛЯ ВАШЕГО КОДА\n"
   ]
  },
  {
   "cell_type": "markdown",
   "metadata": {},
   "source": [
    "<p>\n",
    "<details>\n",
    "\n",
    "<summary> Тут вариант решения, кликни, если хочешь посмотреть </summary>\n",
    "\n",
    "```python\n",
    "blue = \"I'm blue\\n\"\n",
    "daba = \"Da ba dee da ba di\\n\"\n",
    "\n",
    "print(2*(blue+7*daba))\n",
    "```\n",
    "\n",
    "</details>\n",
    "</p>"
   ]
  },
  {
   "cell_type": "markdown",
   "metadata": {},
   "source": [
    "##### **Логические (булевые) переменные.**"
   ]
  },
  {
   "cell_type": "markdown",
   "metadata": {},
   "source": [
    "Логические переменные используются в основном для хранения результатов сравнения с итогами типа Верно/Неверно."
   ]
  },
  {
   "cell_type": "code",
   "execution_count": 50,
   "metadata": {},
   "outputs": [
    {
     "name": "stdout",
     "output_type": "stream",
     "text": [
      "Тип переменной true_value: <class 'bool'>\n"
     ]
    }
   ],
   "source": [
    "true_value = True\n",
    "false_value = False\n",
    "\n",
    "print('Тип переменной true_value:', type(true_value))"
   ]
  },
  {
   "cell_type": "markdown",
   "metadata": {},
   "source": [
    "**Основные операции:**"
   ]
  },
  {
   "cell_type": "code",
   "execution_count": 44,
   "metadata": {},
   "outputs": [
    {
     "name": "stdout",
     "output_type": "stream",
     "text": [
      "False\n",
      "False\n",
      "0\n",
      "\n",
      "True\n",
      "True\n",
      "\n",
      "False\n"
     ]
    }
   ],
   "source": [
    "print(true_value and false_value) # логическое И\n",
    "print(true_value & false_value)   # или просто применить сделать так\n",
    "print(true_value * false_value)   # или просто перемножить\n",
    "print()                           # Печать пустой строчки для удобства показа\n",
    "\n",
    "print(true_value or false_value)  # логическое ИЛИ\n",
    "print(true_value | false_value)   # или так\n",
    "print()\n",
    "\n",
    "print(not true_value)   # логическое НЕ"
   ]
  },
  {
   "cell_type": "markdown",
   "metadata": {},
   "source": [
    "**Как еще создать (часто говорят инициализировать) переменную типа bool?\\\n",
    "Операции сравнения возвращают переменные типа bool.**"
   ]
  },
  {
   "cell_type": "code",
   "execution_count": 57,
   "metadata": {},
   "outputs": [
    {
     "name": "stdout",
     "output_type": "stream",
     "text": [
      "True\n",
      "\n",
      "True\n",
      "<class 'bool'>\n",
      "\n",
      "False\n"
     ]
    }
   ],
   "source": [
    "print(13 > 0)\n",
    "print()\n",
    "\n",
    "example_value = 13\n",
    "example_bool = example_value > 0\n",
    "\n",
    "print(example_bool)\n",
    "print(type(example_bool))\n",
    "print()\n",
    "\n",
    "print(example_value == 10)      # == это сравнение на равенство"
   ]
  },
  {
   "cell_type": "markdown",
   "metadata": {},
   "source": [
    "##### **Переходы между разными типами данных.**"
   ]
  },
  {
   "cell_type": "markdown",
   "metadata": {},
   "source": [
    "Выше мы уже видели, что перемножение числа на строку дает некие предсказуемые, но неочевидные результаты.\\\n",
    "Ситуация становится еще сложнее, когда мы насильно назначаем определенный тип данных данному объекту.\\\n",
    "Посмотрим на некоторые виды поведения:"
   ]
  },
  {
   "cell_type": "markdown",
   "metadata": {},
   "source": [
    "Для перевода данных между типа используется типичный синтаксис ```тип_данных(переменная или объект)```"
   ]
  },
  {
   "cell_type": "code",
   "execution_count": 63,
   "metadata": {},
   "outputs": [
    {
     "name": "stdout",
     "output_type": "stream",
     "text": [
      "13.0\n",
      "13\n",
      "My number is 13\n"
     ]
    },
    {
     "ename": "TypeError",
     "evalue": "can only concatenate str (not \"int\") to str",
     "output_type": "error",
     "traceback": [
      "\u001b[1;31m---------------------------------------------------------------------------\u001b[0m",
      "\u001b[1;31mTypeError\u001b[0m                                 Traceback (most recent call last)",
      "\u001b[1;32md:\\Programms\\Jupyter\\Course\\1_basics.ipynb Cell 40\u001b[0m line \u001b[0;36m<cell line: 5>\u001b[1;34m()\u001b[0m\n\u001b[0;32m      <a href='vscode-notebook-cell:/d%3A/Programms/Jupyter/Course/1_basics.ipynb#Y120sZmlsZQ%3D%3D?line=2'>3</a>\u001b[0m \u001b[39mprint\u001b[39m(\u001b[39mstr\u001b[39m(\u001b[39m13\u001b[39m))                      \u001b[39m# str от float делает число строчкой\u001b[39;00m\n\u001b[0;32m      <a href='vscode-notebook-cell:/d%3A/Programms/Jupyter/Course/1_basics.ipynb#Y120sZmlsZQ%3D%3D?line=3'>4</a>\u001b[0m \u001b[39mprint\u001b[39m(\u001b[39m'\u001b[39m\u001b[39mMy number is \u001b[39m\u001b[39m'\u001b[39m \u001b[39m+\u001b[39m \u001b[39mstr\u001b[39m(\u001b[39m13\u001b[39m))     \u001b[39m# Это помогает в составлении гибридных строчек\u001b[39;00m\n\u001b[1;32m----> <a href='vscode-notebook-cell:/d%3A/Programms/Jupyter/Course/1_basics.ipynb#Y120sZmlsZQ%3D%3D?line=4'>5</a>\u001b[0m \u001b[39mprint\u001b[39m(\u001b[39m'\u001b[39;49m\u001b[39mMy number is\u001b[39;49m\u001b[39m'\u001b[39;49m \u001b[39m+\u001b[39;49m \u001b[39m13\u001b[39;49m)\n",
      "\u001b[1;31mTypeError\u001b[0m: can only concatenate str (not \"int\") to str"
     ]
    }
   ],
   "source": [
    "print(float(13)) # float от int делает число вещественным, это проявляется наличием точки\n",
    "\n",
    "print(str(13))                      # str от float делает число строчкой\n",
    "print('My number is ' + str(13))     # Это помогает в составлении гибридных строчек\n",
    "print('My number is' + 13)          # При этом просто операция str + int невозможна"
   ]
  },
  {
   "cell_type": "code",
   "execution_count": 70,
   "metadata": {},
   "outputs": [
    {
     "name": "stdout",
     "output_type": "stream",
     "text": [
      "1\n",
      "0\n",
      "1.0\n",
      "0.0\n"
     ]
    }
   ],
   "source": [
    "print(int(True))    # bool переменные при переводе переходят\n",
    "print(int(False))   # в 1 для True и в 0 для False\n",
    "\n",
    "print(float(True))\n",
    "print(float(False))"
   ]
  },
  {
   "cell_type": "code",
   "execution_count": 73,
   "metadata": {},
   "outputs": [
    {
     "name": "stdout",
     "output_type": "stream",
     "text": [
      "True\n",
      "False\n",
      "True\n",
      "False\n"
     ]
    }
   ],
   "source": [
    "print(bool(14))     # Обратное работает так, что любое ненулевое число -> True\n",
    "print(bool(0))      # а 0 -> False\n",
    "\n",
    "print(bool(0.1))\n",
    "print(bool(0.))"
   ]
  },
  {
   "cell_type": "markdown",
   "metadata": {},
   "source": [
    "#### **Часть 3. Продвинутые манипуляции с данными.**"
   ]
  },
  {
   "cell_type": "markdown",
   "metadata": {},
   "source": [
    "##### **Условные операторы**"
   ]
  },
  {
   "cell_type": "markdown",
   "metadata": {},
   "source": [
    "Условные операторы &mdash; это операторы, задающие определенноее условие для выполнения кода.\n",
    "\n",
    "Общая структура такого условного кода следующая:\n",
    "``` python\n",
    "if (условие):\n",
    "    код, который нужно выполнить\n",
    "elif (другое условие):\n",
    "    код, который нужно выполнить во втором случае\n",
    "else:\n",
    "    код, который нужно выполнить, если ни один из вариантов не подошел\n",
    "```\n",
    "\n",
    "Попробуйте запустить код ниже для разных значений `c` и посмотрите, что будет выводиться."
   ]
  },
  {
   "cell_type": "code",
   "execution_count": 28,
   "metadata": {},
   "outputs": [
    {
     "name": "stdout",
     "output_type": "stream",
     "text": [
      "Переменная c больше 5. Ее значение: 12\n",
      "Переменная c больше 10. Ее значение: 12\n",
      "Что за число было загадано?\n",
      "Эта переменная по модулю больше 5.\n"
     ]
    }
   ],
   "source": [
    "c = 12\n",
    "if c > 5:\n",
    "    print('Переменная c больше 5. Ее значение:', c) # отступы в Python очень важны\n",
    "                                                       # они определяют, к какому блоку кода \n",
    "                                                       # относится команда\n",
    "# блок кода с условным оператором кончается там, где заканчиваются отступы\n",
    "elif c > 10:\n",
    "    print('Переменная c больше 10. Ее значение:', c) # Этот блок кода никогда не запустится, потому \n",
    "                                                     # что elif проверяется только если верхний if не сработал.\n",
    "if c > 10:\n",
    "     print('Переменная c больше 10. Ее значение:', c) # Этот блок может запуститься, потому что другой if предполагает\n",
    "                                                      # независимую от верхних условий проверку.\n",
    "\n",
    "c = 4\n",
    "if c < 5:\n",
    "    if c < 4:                               # Условия можно вкладывать друг в друга\n",
    "        print('Переменная c меньше 4. Ее значение:', c)\n",
    "    elif c < 3:                             # Условий elif можно накладывать сколько угодно, а else -- только один.\n",
    "        print('Переменная c меньше 3. Ее значение:', c)\n",
    "    elif c < 2:\n",
    "        print('Переменная c меньше 2. Ее значение:', c)\n",
    "    else:\n",
    "        print('Что за число было загадано?')\n",
    "\n",
    "c = -6      # Условия можно собирать в логические комбинации\n",
    "if c > 5 or c < -5: print('Эта переменная по модулю больше 5.') # А еще можно это писать в одну строчку"
   ]
  },
  {
   "cell_type": "markdown",
   "metadata": {},
   "source": [
    "> *Задание. Трагическое.*\\\n",
    "Попробуйте написать небольшой набор условий, который даст ответ о выживании людей на Титанике.\\\n",
    "Вам даны параметры sex, age и siblings, то есть пол, возраст и число родственников на корабле.\\\n",
    "Напишите набор условий для заданных параметров и напечатайте, выжил бы такой пассажир или нет.\n",
    "\n",
    "![titanic image](1_images/titanic.png)\n",
    "\n",
    "Это классическая задача при создании деревьев решений, которые представляют собой кучу if условий, поэтому, даже просто зная как работают if операторы мы немного приближаемся к такой популярной теме, как машинное обучение."
   ]
  },
  {
   "cell_type": "code",
   "execution_count": 24,
   "metadata": {},
   "outputs": [],
   "source": [
    "sex = 'male' # Можете вписать свои данные, но имейте в виду, что для всех мужчин результат отказался неутешительный\n",
    "age = 23\n",
    "siblings = 3\n",
    "\n",
    "# ВАШ КОД ЗДЕСЬ"
   ]
  },
  {
   "cell_type": "markdown",
   "metadata": {},
   "source": [
    "<p>\n",
    "<details>\n",
    "<summary> Тут вариант решения, кликни, если хочешь посмотреть</summary>\n",
    "\n",
    "``` python\n",
    "if sex == 'male':\n",
    "    if age > 9.5:\n",
    "        print('Умер')\n",
    "    else:\n",
    "        if siblings > 2.5:\n",
    "            print('Умер')\n",
    "        else:\n",
    "            print('Выжил')\n",
    "else:\n",
    "    print('Выжил')\n",
    "```\n",
    "\n",
    "</details>\n",
    "</p>\n"
   ]
  },
  {
   "cell_type": "markdown",
   "metadata": {},
   "source": [
    "##### **Списки.**"
   ]
  },
  {
   "cell_type": "markdown",
   "metadata": {},
   "source": [
    "Списки представляют собой массивы объектов, доступ к которым осуществляется по индексу.\\\n",
    "Интересно, что в `python` этими объектами могут быть переменные, другие списки и даже функции."
   ]
  },
  {
   "cell_type": "code",
   "execution_count": 69,
   "metadata": {},
   "outputs": [
    {
     "name": "stdout",
     "output_type": "stream",
     "text": [
      "Тип переменной bag: <class 'list'>\n",
      "Размер списка: 5\n"
     ]
    }
   ],
   "source": [
    "numbers = [1, 2, 3, 4, 5] # Массив чисел\n",
    "words = ['яблоко', 'груша', 'апельсин'] # Массив строк\n",
    "bag = ['some words', 3.14, 2.71, [1, 2, 3], True]\n",
    "\n",
    "print('Тип переменной bag:', type(bag))\n",
    "print('Размер списка:', len(numbers)) # Полезная функция, возвращающая длину списка"
   ]
  },
  {
   "cell_type": "markdown",
   "metadata": {},
   "source": [
    "**Обращение к элементам массива.**"
   ]
  },
  {
   "cell_type": "code",
   "execution_count": 31,
   "metadata": {},
   "outputs": [
    {
     "name": "stdout",
     "output_type": "stream",
     "text": [
      "1\n",
      "5\n",
      "4\n",
      "[1, 2, 3]\n",
      "[1, 2, 3]\n"
     ]
    }
   ],
   "source": [
    "print(numbers[0])   # первый (нулевой) элемент\n",
    "print(numbers[-1])  # последний элемент\n",
    "print(numbers[-2])  # предпоследний элемент, '-' это индексация с конца\n",
    "print(numbers[0:3]) # срез, возвращает элементы с индексами от 0 до 3 (не включая 3)\n",
    "print(numbers[:3])  # тот же самый результат что и в предыдущей строке"
   ]
  },
  {
   "cell_type": "markdown",
   "metadata": {},
   "source": [
    "Два последних примера в ячейке выше используют интересную нотацию, которую полезно знать и использовать.\\\n",
    "**Общий вид обращения к элементам массива следующий**:\n",
    "``` python\n",
    "массив[начало:конец:шаг]\n",
    "```\n",
    "\n",
    "При этом мы получим массив элементов с индексами\\\n",
    "начало, начало + шаг, начало + 2*шаг, ...\\\n",
    "до тех пор пока индекс < конец.\n",
    "\n",
    "**Поля для начала, конца и шага можно оставить пустыми**.\\\n",
    "В этом случае будут выставлены значения по умолчанию:\\\n",
    "начало -> расчет с первого элемента массива\\\n",
    "конец --> расчет до последнего элемента массива\\\n",
    "шаг ----> расчет с шагом 1"
   ]
  },
  {
   "cell_type": "code",
   "execution_count": 51,
   "metadata": {},
   "outputs": [
    {
     "name": "stdout",
     "output_type": "stream",
     "text": [
      "[0, 2, 4, 6, 8]\n",
      "[10, 9, 8, 7, 6, 5, 4, 3, 2, 1, 0]\n",
      "[5, 6]\n"
     ]
    }
   ],
   "source": [
    "numbers = [0, 1, 2, 3, 4, 5, 6, 7, 8, 9, 10]\n",
    "print(numbers[0:10:2]) # 0, 0+1*2, 0+2*2, ..., (0+5*2) не включается т.к. 10 не меньше 10\n",
    "print(numbers[10::-1]) # 10, 9, 8, 7, ...\n",
    "print(numbers[5:7]) # 5, 5+1, (5+2) не включается т.к. 7 не меньше 7"
   ]
  },
  {
   "cell_type": "markdown",
   "metadata": {},
   "source": [
    "Элементы массивов можно изменять по индексу"
   ]
  },
  {
   "cell_type": "code",
   "execution_count": 53,
   "metadata": {},
   "outputs": [
    {
     "name": "stdout",
     "output_type": "stream",
     "text": [
      "[1, 2, 3]\n",
      "[4, 2, 3]\n",
      "[4, 'Hello', 3]\n"
     ]
    }
   ],
   "source": [
    "numbers = [1, 2, 3]\n",
    "print(numbers)\n",
    "\n",
    "numbers[0] = 4\n",
    "print(numbers)\n",
    "\n",
    "numbers[1] = 'Hello'\n",
    "print(numbers)"
   ]
  },
  {
   "cell_type": "markdown",
   "metadata": {},
   "source": [
    "**Великая опасность!**\\\n",
    "В массивах содержатся не сами данные, а ссылки на объекты, которые лежат внутри массива.\\\n",
    "При работе с массивами будьте осторожны и **никогда не копируйте** массивы как показано в ячейке ниже.\\\n",
    "Это приведет к связи между двумя списками, которые будут указывать на одни и те же элементы и сломают вам\\\n",
    "всю логику работы."
   ]
  },
  {
   "cell_type": "code",
   "execution_count": null,
   "metadata": {},
   "outputs": [
    {
     "name": "stdout",
     "output_type": "stream",
     "text": [
      "[1, 2, 3, 4]\n",
      "[1, 2, 3, 4]\n",
      "['BROKEN NUMBER HELP ME AAAAAAAAAH', 2, 3, 4]\n",
      "['BROKEN NUMBER HELP ME AAAAAAAAAH', 2, 3, 4]\n"
     ]
    }
   ],
   "source": [
    "array1 = [1, 2, 3, 4]\n",
    "array2 = array1\n",
    "print(array1)\n",
    "print(array2)\n",
    "\n",
    "array2[0] = 'BROKEN NUMBER HELP ME AAAAAAAAAH'\n",
    "print(array1)\n",
    "print(array2)"
   ]
  },
  {
   "cell_type": "markdown",
   "metadata": {},
   "source": [
    "**Кортежи.**\\\n",
    "По сути те же массивы, но неизменяемые, т.е. после задания их нельзя изменить, как мы только что сделали с массивом.\\\n",
    "Задаются как массивы, но круглыми скобками."
   ]
  },
  {
   "cell_type": "code",
   "execution_count": 59,
   "metadata": {},
   "outputs": [
    {
     "name": "stdout",
     "output_type": "stream",
     "text": [
      "Тип переменной array1: <class 'tuple'>\n"
     ]
    }
   ],
   "source": [
    "my_tuple = (1, 2, 3)\n",
    "print('Тип переменной array1:', type(my_tuple))"
   ]
  },
  {
   "cell_type": "markdown",
   "metadata": {},
   "source": [
    "Обращения к элементам кортежа такие же, как и к массивам."
   ]
  },
  {
   "cell_type": "code",
   "execution_count": 61,
   "metadata": {},
   "outputs": [
    {
     "name": "stdout",
     "output_type": "stream",
     "text": [
      "2\n",
      "(1, 3)\n"
     ]
    }
   ],
   "source": [
    "print(my_tuple[1])\n",
    "print(my_tuple[::2])"
   ]
  },
  {
   "cell_type": "markdown",
   "metadata": {},
   "source": [
    "Но при попытке что-то задать неминуемо вылезает ошибка."
   ]
  },
  {
   "cell_type": "code",
   "execution_count": 62,
   "metadata": {},
   "outputs": [
    {
     "ename": "TypeError",
     "evalue": "'tuple' object does not support item assignment",
     "output_type": "error",
     "traceback": [
      "\u001b[1;31m---------------------------------------------------------------------------\u001b[0m",
      "\u001b[1;31mTypeError\u001b[0m                                 Traceback (most recent call last)",
      "\u001b[1;32md:\\Programms\\Jupyter\\Course\\1_basics.ipynb Cell 62\u001b[0m line \u001b[0;36m<cell line: 1>\u001b[1;34m()\u001b[0m\n\u001b[1;32m----> <a href='vscode-notebook-cell:/d%3A/Programms/Jupyter/Course/1_basics.ipynb#Y142sZmlsZQ%3D%3D?line=0'>1</a>\u001b[0m my_tuple[\u001b[39m1\u001b[39m] \u001b[39m=\u001b[39m \u001b[39m2\u001b[39m\n",
      "\u001b[1;31mTypeError\u001b[0m: 'tuple' object does not support item assignment"
     ]
    }
   ],
   "source": [
    "my_tuple[1] = 2"
   ]
  },
  {
   "cell_type": "markdown",
   "metadata": {},
   "source": [
    "**Строки.**\\\n",
    "Одним забавным и полезным свойством строк является то, что они, по сути, тоже списки."
   ]
  },
  {
   "cell_type": "code",
   "execution_count": 67,
   "metadata": {},
   "outputs": [
    {
     "name": "stdout",
     "output_type": "stream",
     "text": [
      "H\n",
      "Hello\n",
      "HloWrd\n"
     ]
    }
   ],
   "source": [
    "some_text = 'Hello World!'\n",
    "print(some_text[0])\n",
    "print(some_text[:5])\n",
    "print(some_text[::2])"
   ]
  },
  {
   "cell_type": "markdown",
   "metadata": {},
   "source": [
    "##### **Циклы.**"
   ]
  },
  {
   "cell_type": "markdown",
   "metadata": {},
   "source": [
    "Циклы &mdash; структуры, позволяющие многократно выполнять один и тот же код для разных условий.\\\n",
    "Два представления циклов в `python` это циклы for и циклы while.\n",
    "\n",
    "Логика циклов `for` такова:\n",
    "\n",
    "``` python\n",
    "for переменная in некий массив значений:\n",
    "    код, который нужно выполнить\n",
    "```\n",
    "\n",
    "Здесь переменной будут присваиваться последовательно все значения из массива, и для них будет выполняться заданный код."
   ]
  },
  {
   "cell_type": "code",
   "execution_count": 70,
   "metadata": {},
   "outputs": [
    {
     "name": "stdout",
     "output_type": "stream",
     "text": [
      "0\n",
      "1\n",
      "2\n",
      "3\n",
      "4\n",
      "5\n",
      "6\n",
      "7\n",
      "8\n",
      "9\n"
     ]
    }
   ],
   "source": [
    "# после слова for идет переменная, которая будет последовательно принимать значения от 0 до 9\n",
    "# в данном случае переменная называется i, но это может быть любое имя\n",
    "# range - объект python, который возвращает последовательность чисел\n",
    "# первое значение в скобках в range - начало последовательности\n",
    "# второе - конец последовательности (не включая его)\n",
    "for i in range(0, 10):\n",
    "    print(i)"
   ]
  },
  {
   "cell_type": "markdown",
   "metadata": {},
   "source": [
    "Логика циклов `while`:\n",
    "``` python\n",
    "while условие, которое должно когда-то нарушиться:\n",
    "    код, который выполняется до нарушения условия\n",
    "```"
   ]
  },
  {
   "cell_type": "code",
   "execution_count": 76,
   "metadata": {},
   "outputs": [
    {
     "name": "stdout",
     "output_type": "stream",
     "text": [
      "0\n",
      "1\n",
      "2\n",
      "3\n",
      "4\n",
      "5\n",
      "6\n",
      "7\n",
      "8\n",
      "9\n"
     ]
    }
   ],
   "source": [
    "i = 0\n",
    "while i < 10:\n",
    "    print(i)\n",
    "    i += 1"
   ]
  },
  {
   "cell_type": "markdown",
   "metadata": {},
   "source": [
    "Далее мы будем в основном пользоваться циклами for, так как они позволяют довольно просто работать с массивами."
   ]
  },
  {
   "cell_type": "code",
   "execution_count": 77,
   "metadata": {},
   "outputs": [
    {
     "name": "stdout",
     "output_type": "stream",
     "text": [
      "Bunny\n",
      "Duck\n",
      "Pig\n"
     ]
    }
   ],
   "source": [
    "names = ['Bunny','Duck','Pig']\n",
    "for name in names:\n",
    "    print(name)"
   ]
  },
  {
   "cell_type": "markdown",
   "metadata": {},
   "source": [
    "Внутри циклов можно выполнять довольно сложные операции и модернизировать внешние переменные."
   ]
  },
  {
   "cell_type": "code",
   "execution_count": 79,
   "metadata": {},
   "outputs": [
    {
     "name": "stdout",
     "output_type": "stream",
     "text": [
      "385\n"
     ]
    }
   ],
   "source": [
    "numbers = [1, 2, 3, 4, 5, 6, 7, 8, 9, 10]\n",
    "sum_of_squares = 0\n",
    "for num in numbers:\n",
    "    sum_of_squares += num ** 2\n",
    "print(sum_of_squares)"
   ]
  },
  {
   "cell_type": "markdown",
   "metadata": {},
   "source": [
    "> *Задание. Математическое.*\\\n",
    "Напишите цикл, который считает факториал для заданного значения n."
   ]
  },
  {
   "cell_type": "code",
   "execution_count": 84,
   "metadata": {},
   "outputs": [],
   "source": [
    "n = 5\n",
    "\n",
    "# ВАШ КОД ЗДЕСЬ"
   ]
  },
  {
   "cell_type": "markdown",
   "metadata": {},
   "source": [
    "<p>\n",
    "<details>\n",
    "<summary>Вариант решения, кликни, если хочешь посмотреть.</summary>\n",
    "\n",
    "``` python\n",
    "factorial = 1\n",
    "for num in range(1, n+1):\n",
    "    factorial *= num\n",
    "print(factorial)\n",
    "```\n",
    "</details>\n",
    "</p>"
   ]
  },
  {
   "cell_type": "markdown",
   "metadata": {},
   "source": [
    "Еще один интересный вариант работы с циклами &mdash; это так называемый list comprehansion.\\\n",
    "Он по сути объединяет между собой процесс вычисления элементов в цикле и записи их в массив.\n",
    "\n",
    "В рамках этого курса мы не будет вдаваться в подробности, их можно изучить, например, [тут](https://pythonru.com/osnovy/python-list-comprehension).\\\n",
    "Пока просто обозначим, что такая возможность есть и иногда ей можно пользоваться для удобства работы."
   ]
  },
  {
   "cell_type": "code",
   "execution_count": 85,
   "metadata": {},
   "outputs": [
    {
     "name": "stdout",
     "output_type": "stream",
     "text": [
      "[0, 2, 8, 18]\n"
     ]
    }
   ],
   "source": [
    "print([2*i**2 for i in range(0, 4)])"
   ]
  },
  {
   "cell_type": "markdown",
   "metadata": {},
   "source": [
    "##### **Функции.**"
   ]
  },
  {
   "cell_type": "markdown",
   "metadata": {},
   "source": [
    "Функции в `python` &mdash; это структуры, которые принимают в себя какие-то аргументы, затем обрабатывают\\\n",
    "их внутри себя и выплевывают обратно результат в соответствии с написанным кодом.\n",
    "\n",
    "Логика их построения следующая:\n",
    "\n",
    "``` python\n",
    "def название_функции(переменная1, переменная2, ...):\n",
    "    код, который должен выполняться внутри\n",
    "    return результат, который мы хотим передать на выход\n",
    "```"
   ]
  },
  {
   "cell_type": "code",
   "execution_count": 86,
   "metadata": {},
   "outputs": [],
   "source": [
    "def square(number):\n",
    "    squared_number = number ** 2\n",
    "    return squared_number"
   ]
  },
  {
   "cell_type": "code",
   "execution_count": 88,
   "metadata": {},
   "outputs": [
    {
     "name": "stdout",
     "output_type": "stream",
     "text": [
      "36\n"
     ]
    }
   ],
   "source": [
    "print(square(6))"
   ]
  },
  {
   "cell_type": "markdown",
   "metadata": {},
   "source": [
    "До этого мы уже пару раз использовали функции в этом ноутбуке, например `print()` и `len()`.\n",
    "\n",
    "Таких встроенных функций в `python` огромное количество, поэтому, перед тем как бросаться самостоятельно\\\n",
    "писать код для расчета, например, сумму значений по массиву, рекомендуем погуглить уже готовые решения\\\n",
    "в чистом `python` или каком-то из используемых вами модулей (про них мы начнем разговаривать на следующем занятии)."
   ]
  },
  {
   "cell_type": "code",
   "execution_count": 89,
   "metadata": {},
   "outputs": [
    {
     "name": "stdout",
     "output_type": "stream",
     "text": [
      "Минимальное значение в списке sample: -3.5\n",
      "Максимальное значение в списке sample: 3628800\n",
      "Сумма элементов списка sample: 3631509.6415\n",
      "Отсортированный по возрастанию список sample: [-3.5, 3.1415, 6, 27, 28, 1312, 1337, 3628800]\n"
     ]
    }
   ],
   "source": [
    "sample = [6, -3.5, 3.1415, 28, 1312, 27, 3628800, 1337]\n",
    "print('Минимальное значение в списке sample:', min(sample))\n",
    "print('Максимальное значение в списке sample:', max(sample))\n",
    "print('Сумма элементов списка sample:', sum(sample))\n",
    "print('Отсортированный по возрастанию список sample:', sorted(sample))"
   ]
  },
  {
   "cell_type": "markdown",
   "metadata": {},
   "source": [
    "Важным аспектом в использовании функций является их повторяемость и переиспользуемость.\\\n",
    "Ранее мы писали код для вычисления факториала, который занимает прилично места.\\\n",
    "Напишем теперь функцию, которая будет вызывать такой же блок кода, но в компактном виде."
   ]
  },
  {
   "cell_type": "markdown",
   "metadata": {},
   "source": [
    "> Задание. Повторяющее.\\\n",
    "Напишите функцию, которая будет вычислять значение факториала от данного числа x."
   ]
  },
  {
   "cell_type": "code",
   "execution_count": 94,
   "metadata": {},
   "outputs": [],
   "source": [
    "def factorial(): # В круглых скобках должна быть ваша переменная\n",
    "    \n",
    "    # Место для вашего кода\n",
    "    \n",
    "    \n",
    "    return # Тут должно стоять значение, которое мы хотим передать пользователю после всех расчетов."
   ]
  },
  {
   "cell_type": "markdown",
   "metadata": {},
   "source": [
    "Проверим, как полученная функция работает."
   ]
  },
  {
   "cell_type": "code",
   "execution_count": 93,
   "metadata": {},
   "outputs": [
    {
     "name": "stdout",
     "output_type": "stream",
     "text": [
      "3628800\n",
      "120\n",
      "1\n",
      "1\n"
     ]
    }
   ],
   "source": [
    "print(factorial(10))\n",
    "print(factorial(5))\n",
    "print(factorial(0))\n",
    "print(factorial(1))"
   ]
  },
  {
   "cell_type": "markdown",
   "metadata": {},
   "source": [
    "<p>\n",
    "<details>\n",
    "<summary> Решение, кликни, чтобы посмотреть. </summary>\n",
    "\n",
    "``` python\n",
    "def factorial(x):\n",
    "    output_value = 1\n",
    "    for num in range(1, x+1):\n",
    "        output_value *= num\n",
    "    return output_value\n",
    "```\n",
    "</details>\n",
    "</p>"
   ]
  },
  {
   "cell_type": "markdown",
   "metadata": {},
   "source": [
    "**Бонусный факт посложнее.**\\\n",
    "Еще одним интересным аспектом работы с функциями является возможность вызывать их рекурсивно.\\\n",
    "Это значит, что функцию можно вызывать внутри самой себя до получения результата.\\\n",
    "Мы не будем вдаваться в подробности построения таких функций, только обозначим, что это возможно и,\\\n",
    "в отдельных простых случаях, открывает новые возможности для использования кода.\\\n",
    "\n",
    "Покажем, как работает рекурсивное задание на примере вычисления элемента последовательности Фибоначчи."
   ]
  },
  {
   "cell_type": "code",
   "execution_count": 99,
   "metadata": {},
   "outputs": [],
   "source": [
    "def fibonacchi(x):\n",
    "    if x == 0:\n",
    "        return 0\n",
    "    elif x == 1: # Вообще-то здесь можно и не писать elif, потому что при return мы выбрасываемся из функции.\n",
    "        return 1\n",
    "    else:\n",
    "        return fibonacchi(x-1) + fibonacchi(x-2)"
   ]
  },
  {
   "cell_type": "code",
   "execution_count": 100,
   "metadata": {},
   "outputs": [
    {
     "name": "stdout",
     "output_type": "stream",
     "text": [
      "0\n",
      "1\n",
      "1\n",
      "2\n",
      "3\n",
      "5\n",
      "8\n",
      "13\n",
      "21\n",
      "34\n"
     ]
    }
   ],
   "source": [
    "for i in range(10):\n",
    "    print(fibonacchi(i))"
   ]
  },
  {
   "cell_type": "markdown",
   "metadata": {},
   "source": [
    "> *Дополнительное задание. Рекурсивное.*\\\n",
    "Напишите функцию `factorial`, используя рекурсию."
   ]
  },
  {
   "cell_type": "code",
   "execution_count": 106,
   "metadata": {},
   "outputs": [],
   "source": [
    "# ВАШ КОД ЗДЕСЬ"
   ]
  },
  {
   "cell_type": "code",
   "execution_count": 107,
   "metadata": {},
   "outputs": [
    {
     "name": "stdout",
     "output_type": "stream",
     "text": [
      "3628800\n",
      "120\n",
      "1\n",
      "1\n"
     ]
    }
   ],
   "source": [
    "print(factorial(10))\n",
    "print(factorial(5))\n",
    "print(factorial(0))\n",
    "print(factorial(1))"
   ]
  },
  {
   "cell_type": "markdown",
   "metadata": {},
   "source": [
    "<p>\n",
    "<details>\n",
    "<summary> Решение, кликни, чтобы посмотреть. </summary>\n",
    "\n",
    "``` python\n",
    "def factorial(x):\n",
    "    if x == 0:\n",
    "        return 1\n",
    "    else:\n",
    "        return factorial(x-1)\n",
    "```\n",
    "</details>\n",
    "</p>"
   ]
  },
  {
   "cell_type": "markdown",
   "metadata": {},
   "source": [
    "##### **Классы и методы классов.**"
   ]
  },
  {
   "cell_type": "markdown",
   "metadata": {},
   "source": [
    "Еще одной важной концепцией в программировании на `python` являются классы, но разговору\\\n",
    "про них лучше посвятить отдельное занятие или не посвящать занятия вообще.\n",
    "\n",
    "Мы только коротко обозначим, что все, что есть в `python` &mdash; это **объекты**.\\\n",
    "То есть некие сущности, которые обладают своим заранее определенным набором свойств и параметров.\n",
    "\n",
    "Классы, в свою очередь, представляют собой шаблоны таких объектов:\\\n",
    "Какие у них должны быть функции, переменные и свойства.\n",
    "\n",
    "Эта концепция и подход к данным называется Объектно-ориентированным программированием (ООП).\\\n",
    "Вот сравнительно понятные статьи [на английском](https://kinsta.com/blog/python-object-oriented-programming/) и [на русском](https://proglib.io/p/python-oop)."
   ]
  },
  {
   "cell_type": "code",
   "execution_count": 109,
   "metadata": {},
   "outputs": [],
   "source": [
    "class Student: # Создаем класс Студент\n",
    "    def __init__(self, name, age, sex): # Функция, с помощью которой мы задаем параметры для инициализации объекта класса\n",
    "        self.name = name        # self -- это обращение к самому себе\n",
    "        self.age = age          # Через точку задаются свойства, так называемые атрибуты класса\n",
    "        self.sex = sex          # которые будут храниться в объекте класса\n",
    "    \n",
    "    def profile(self):  # Какая-то функция класса, для которой мы будем использовать параметры, заданные в self\n",
    "        print('Имя:    ', self.name)\n",
    "        print('Возраст:', self.age)\n",
    "        print('Пол:    ', self.sex)"
   ]
  },
  {
   "cell_type": "markdown",
   "metadata": {},
   "source": [
    "Для создания объекта класса мы используем следующий синтаксис:"
   ]
  },
  {
   "cell_type": "code",
   "execution_count": 111,
   "metadata": {},
   "outputs": [],
   "source": [
    "Andrey = Student('Andrey', 23, 'male') # Обратите внимание, что здесь фигурируют 3 параметра\n",
    "                                       # которые мы задали в функции __init__, кроме self"
   ]
  },
  {
   "cell_type": "markdown",
   "metadata": {},
   "source": [
    "Вызов функций класса осуществляется несколько иначе, чем с обычными функциями.\\\n",
    "Сами функции класса называются **методами класса** и вызываются через точку, как показано ниже."
   ]
  },
  {
   "cell_type": "code",
   "execution_count": 112,
   "metadata": {},
   "outputs": [
    {
     "name": "stdout",
     "output_type": "stream",
     "text": [
      "Имя:     Andrey\n",
      "Возраст: 23\n",
      "Пол:     male\n"
     ]
    }
   ],
   "source": [
    "Andrey.profile()"
   ]
  },
  {
   "cell_type": "markdown",
   "metadata": {},
   "source": [
    "> *Задание. Творческое.*\\\n",
    "Придумайте и реализуйте небольшой (инит + 1-2 простые функции) класс на свой выбор.\\\n",
    "Для этого задания не стесняйтесь задавать вопросы и уточнять неясные моменты.\\\n",
    "Это нормально, потому что в этом практикуме мы не обсуждали создание классов подробно."
   ]
  },
  {
   "cell_type": "code",
   "execution_count": 132,
   "metadata": {},
   "outputs": [],
   "source": [
    "# Ваш код здесь"
   ]
  },
  {
   "cell_type": "markdown",
   "metadata": {},
   "source": [
    "Мы не будем глубже погружаться в происходящее с классами и создание своих классов,\\\n",
    "а лучше сосредоточимся на том, что объекты, с которыми мы до этого работали, тоже\\\n",
    "являются объектами классов.\\\n",
    "До этого мы как-то смирились с припиской class в выдаче типа, но теперь, вооруженные знанием,\\\n",
    "отметим, что строчки &mdash; это объекты **класса** `str`."
   ]
  },
  {
   "cell_type": "code",
   "execution_count": 113,
   "metadata": {},
   "outputs": [
    {
     "name": "stdout",
     "output_type": "stream",
     "text": [
      "<class 'str'>\n"
     ]
    }
   ],
   "source": [
    "some_text = 'hello world'\n",
    "print(type(some_text))"
   ]
  },
  {
   "cell_type": "markdown",
   "metadata": {},
   "source": [
    "У класса `str`, как и у других, есть свои методы класса, которые можно использовать."
   ]
  },
  {
   "cell_type": "code",
   "execution_count": 116,
   "metadata": {},
   "outputs": [
    {
     "name": "stdout",
     "output_type": "stream",
     "text": [
      "HELLO WORLD\n",
      "6\n"
     ]
    }
   ],
   "source": [
    "print(some_text.upper()) # Переводит все символы в заглавные буквы.\n",
    "\n",
    "print(some_text.find('world')) # Ищет и выводит индекс подстрочки внутри строчки."
   ]
  },
  {
   "cell_type": "markdown",
   "metadata": {},
   "source": [
    "> *Задание. Игривое.*\\\n",
    "Напишите функцию, которая будет принимать строку и возращать строку с текстом ЛеСеНкОй.\\\n",
    "veloceraptor -> VeLoCeRaPtOr"
   ]
  },
  {
   "cell_type": "code",
   "execution_count": null,
   "metadata": {},
   "outputs": [],
   "source": [
    "# ВАШ КОД ЗДЕСЬ\n"
   ]
  },
  {
   "cell_type": "markdown",
   "metadata": {},
   "source": [
    "<p>\n",
    "<details>\n",
    "<summary>Решение, кликни, чтобы посмотреть</summary>\n",
    "\n",
    "``` python\n",
    "def staircase(text):\n",
    "    output_text = ''\n",
    "    for idx in range(len(text)):\n",
    "        if idx % 2 == 0:\n",
    "            output_text += text[idx].upper()\n",
    "        else:\n",
    "            output_text += text[idx].lower()\n",
    "    return output_text\n",
    "```\n",
    "\n",
    "</details>\n",
    "</p>"
   ]
  },
  {
   "cell_type": "markdown",
   "metadata": {},
   "source": [
    "Список (`list`) тоже является классом со своими методами."
   ]
  },
  {
   "cell_type": "code",
   "execution_count": 118,
   "metadata": {},
   "outputs": [
    {
     "name": "stdout",
     "output_type": "stream",
     "text": [
      "<class 'list'>\n"
     ]
    }
   ],
   "source": [
    "array = [1, 2, 3, 4, 5]\n",
    "print(type(array))"
   ]
  },
  {
   "cell_type": "markdown",
   "metadata": {},
   "source": [
    "Метод `.append()` доабвляет в конец массива данное значение."
   ]
  },
  {
   "cell_type": "code",
   "execution_count": 128,
   "metadata": {},
   "outputs": [
    {
     "name": "stdout",
     "output_type": "stream",
     "text": [
      "[1, 2, 3, 4, 5]\n",
      "[1, 2, 3, 4, 5, 6]\n"
     ]
    }
   ],
   "source": [
    "array = [1, 2, 3, 4, 5]\n",
    "print(array)\n",
    "array.append(6)\n",
    "print(array)"
   ]
  },
  {
   "cell_type": "markdown",
   "metadata": {},
   "source": [
    "Метод `.extend()` добавляет в конец массива копию другого массива"
   ]
  },
  {
   "cell_type": "code",
   "execution_count": 129,
   "metadata": {},
   "outputs": [
    {
     "name": "stdout",
     "output_type": "stream",
     "text": [
      "[1, 2, 3, 4, 5]\n",
      "[1, 2, 3, 4, 5, 6, 7, 8]\n"
     ]
    }
   ],
   "source": [
    "array = [1, 2, 3, 4, 5]\n",
    "print(array)\n",
    "array.extend([6, 7, 8])\n",
    "print(array)"
   ]
  },
  {
   "cell_type": "markdown",
   "metadata": {},
   "source": [
    "> *Задание. Завершающее.*\\\n",
    "Напишите функцию, которая принимает массив чисел, а возвращает массив квадратов чисел в обратном порядке."
   ]
  },
  {
   "cell_type": "code",
   "execution_count": 130,
   "metadata": {},
   "outputs": [],
   "source": [
    "# Ваш код здесь"
   ]
  },
  {
   "cell_type": "markdown",
   "metadata": {},
   "source": [
    "<p>\n",
    "<details>\n",
    "<summary>Решение, кликни, чтобы посмотреть</summary>\n",
    "\n",
    "``` python\n",
    "def square_reverse(array):\n",
    "    output_array = []\n",
    "    for element in array[::-1]:\n",
    "        output_array.append(element ** 2)\n",
    "    return output_array\n",
    "```\n",
    "\n",
    "</details>\n",
    "</p>"
   ]
  },
  {
   "cell_type": "markdown",
   "metadata": {},
   "source": [
    "**На этом мы завершаем практикум первого занятия**.\\\n",
    "Если у вас есть вопросы, вы можете написать мне лично в телеграм: @rrousan или в чате нашего курса.\n",
    "\n",
    "Выполнение без подсказок всех заданий этого практикума не требуется для получения зачета, поэтому,\\\n",
    "если у вас сегодня что-то не получилось, не стесняйтесь подглянуть в решения и попробовать в них\\\n",
    "разобраться и повторить. "
   ]
  }
 ],
 "metadata": {
  "kernelspec": {
   "display_name": "base",
   "language": "python",
   "name": "python3"
  },
  "language_info": {
   "codemirror_mode": {
    "name": "ipython",
    "version": 3
   },
   "file_extension": ".py",
   "mimetype": "text/x-python",
   "name": "python",
   "nbconvert_exporter": "python",
   "pygments_lexer": "ipython3",
   "version": "3.9.7"
  },
  "orig_nbformat": 4
 },
 "nbformat": 4,
 "nbformat_minor": 2
}
